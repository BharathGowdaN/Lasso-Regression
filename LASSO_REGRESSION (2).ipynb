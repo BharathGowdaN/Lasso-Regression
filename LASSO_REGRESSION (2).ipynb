{
  "nbformat": 4,
  "nbformat_minor": 0,
  "metadata": {
    "colab": {
      "provenance": []
    },
    "kernelspec": {
      "name": "python3",
      "display_name": "Python 3"
    },
    "language_info": {
      "name": "python"
    }
  },
  "cells": [
    {
      "cell_type": "code",
      "execution_count": null,
      "metadata": {
        "id": "CYjswkSf8x02"
      },
      "outputs": [],
      "source": [
        "import numpy as np # numpy used for mathematical operation on array\n",
        "import pandas as pd  # pandas used for data manipulation on dataframe\n",
        "from sklearn.linear_model import Lasso\n",
        "from sklearn.model_selection import train_test_split\n",
        "from sklearn.metrics import mean_squared_error\n",
        "from sklearn.datasets import load_boston\n",
        "from sklearn.preprocessing import StandardScaler"
      ]
    },
    {
      "cell_type": "code",
      "source": [
        "df= pd.read_csv(\"/content/Salary_Data.csv\", nrows=1000)"
      ],
      "metadata": {
        "id": "YhBrA1HG8_Jn"
      },
      "execution_count": null,
      "outputs": []
    },
    {
      "cell_type": "code",
      "source": [
        "df.shape"
      ],
      "metadata": {
        "colab": {
          "base_uri": "https://localhost:8080/"
        },
        "id": "INNuBiEu9glD",
        "outputId": "1d24bcfd-992b-4181-eec4-bec3bbba3cd0"
      },
      "execution_count": null,
      "outputs": [
        {
          "output_type": "execute_result",
          "data": {
            "text/plain": [
              "(1000, 29)"
            ]
          },
          "metadata": {},
          "execution_count": 3
        }
      ]
    },
    {
      "cell_type": "code",
      "source": [
        "df.info()"
      ],
      "metadata": {
        "id": "r9nRPHSq9ivW",
        "colab": {
          "base_uri": "https://localhost:8080/"
        },
        "outputId": "db706bd7-b471-45ec-ed8c-54fe5a637d7a"
      },
      "execution_count": null,
      "outputs": [
        {
          "output_type": "stream",
          "name": "stdout",
          "text": [
            "<class 'pandas.core.frame.DataFrame'>\n",
            "RangeIndex: 1000 entries, 0 to 999\n",
            "Data columns (total 29 columns):\n",
            " #   Column                   Non-Null Count  Dtype  \n",
            "---  ------                   --------------  -----  \n",
            " 0   timestamp                1000 non-null   object \n",
            " 1   company                  1000 non-null   object \n",
            " 2   level                    1000 non-null   object \n",
            " 3   title                    1000 non-null   object \n",
            " 4   totalyearlycompensation  1000 non-null   int64  \n",
            " 5   location                 1000 non-null   object \n",
            " 6   yearsofexperience        1000 non-null   float64\n",
            " 7   yearsatcompany           1000 non-null   float64\n",
            " 8   tag                      561 non-null    object \n",
            " 9   basesalary               1000 non-null   float64\n",
            " 10  stockgrantvalue          1000 non-null   float64\n",
            " 11  bonus                    1000 non-null   int64  \n",
            " 12  gender                   357 non-null    object \n",
            " 13  otherdetails             87 non-null     object \n",
            " 14  cityid                   1000 non-null   int64  \n",
            " 15  dmaid                    1000 non-null   int64  \n",
            " 16  rowNumber                1000 non-null   int64  \n",
            " 17  Masters_Degree           1000 non-null   int64  \n",
            " 18  Bachelors_Degree         1000 non-null   int64  \n",
            " 19  Doctorate_Degree         1000 non-null   int64  \n",
            " 20  Highschool               1000 non-null   int64  \n",
            " 21  Some_College             1000 non-null   int64  \n",
            " 22  Race_Asian               1000 non-null   int64  \n",
            " 23  Race_White               1000 non-null   int64  \n",
            " 24  Race_Two_Or_More         1000 non-null   int64  \n",
            " 25  Race_Black               1000 non-null   int64  \n",
            " 26  Race_Hispanic            1000 non-null   int64  \n",
            " 27  Race                     0 non-null      float64\n",
            " 28  Education                2 non-null      object \n",
            "dtypes: float64(5), int64(15), object(9)\n",
            "memory usage: 226.7+ KB\n"
          ]
        }
      ]
    },
    {
      "cell_type": "code",
      "source": [
        "df.isnull().sum()"
      ],
      "metadata": {
        "id": "svlJKgJD-Mpg",
        "colab": {
          "base_uri": "https://localhost:8080/"
        },
        "outputId": "f76ae0b5-2d58-4b0a-ef1a-faa238e9320e"
      },
      "execution_count": null,
      "outputs": [
        {
          "output_type": "execute_result",
          "data": {
            "text/plain": [
              "timestamp                     0\n",
              "company                       0\n",
              "level                         0\n",
              "title                         0\n",
              "totalyearlycompensation       0\n",
              "location                      0\n",
              "yearsofexperience             0\n",
              "yearsatcompany                0\n",
              "tag                         439\n",
              "basesalary                    0\n",
              "stockgrantvalue               0\n",
              "bonus                         0\n",
              "gender                      643\n",
              "otherdetails                913\n",
              "cityid                        0\n",
              "dmaid                         0\n",
              "rowNumber                     0\n",
              "Masters_Degree                0\n",
              "Bachelors_Degree              0\n",
              "Doctorate_Degree              0\n",
              "Highschool                    0\n",
              "Some_College                  0\n",
              "Race_Asian                    0\n",
              "Race_White                    0\n",
              "Race_Two_Or_More              0\n",
              "Race_Black                    0\n",
              "Race_Hispanic                 0\n",
              "Race                       1000\n",
              "Education                   998\n",
              "dtype: int64"
            ]
          },
          "metadata": {},
          "execution_count": 5
        }
      ]
    },
    {
      "cell_type": "code",
      "source": [
        "df=df.drop([\"Race\",\"otherdetails\",\"tag\"],axis=1)"
      ],
      "metadata": {
        "id": "-7MSUnRB-PS3"
      },
      "execution_count": null,
      "outputs": []
    },
    {
      "cell_type": "code",
      "source": [
        "df.shape"
      ],
      "metadata": {
        "colab": {
          "base_uri": "https://localhost:8080/"
        },
        "id": "xdcPFtPa-evL",
        "outputId": "b32131f4-8f16-4dc6-d392-8a9279b43e71"
      },
      "execution_count": null,
      "outputs": [
        {
          "output_type": "execute_result",
          "data": {
            "text/plain": [
              "(1000, 26)"
            ]
          },
          "metadata": {},
          "execution_count": 7
        }
      ]
    },
    {
      "cell_type": "code",
      "source": [
        "df.isnull().sum()"
      ],
      "metadata": {
        "id": "Dx6Gs4sM-hNT",
        "colab": {
          "base_uri": "https://localhost:8080/"
        },
        "outputId": "5b4d2c5c-c524-4dd5-efc6-77eb18e67f56"
      },
      "execution_count": null,
      "outputs": [
        {
          "output_type": "execute_result",
          "data": {
            "text/plain": [
              "timestamp                    0\n",
              "company                      0\n",
              "level                        0\n",
              "title                        0\n",
              "totalyearlycompensation      0\n",
              "location                     0\n",
              "yearsofexperience            0\n",
              "yearsatcompany               0\n",
              "basesalary                   0\n",
              "stockgrantvalue              0\n",
              "bonus                        0\n",
              "gender                     643\n",
              "cityid                       0\n",
              "dmaid                        0\n",
              "rowNumber                    0\n",
              "Masters_Degree               0\n",
              "Bachelors_Degree             0\n",
              "Doctorate_Degree             0\n",
              "Highschool                   0\n",
              "Some_College                 0\n",
              "Race_Asian                   0\n",
              "Race_White                   0\n",
              "Race_Two_Or_More             0\n",
              "Race_Black                   0\n",
              "Race_Hispanic                0\n",
              "Education                  998\n",
              "dtype: int64"
            ]
          },
          "metadata": {},
          "execution_count": 8
        }
      ]
    },
    {
      "cell_type": "code",
      "source": [
        "# Impute \"categorical null values\" with Mode value\n",
        "df['gender'].fillna(df['gender'].mode()[0], inplace=True)\n",
        "df['Education'].fillna(df['Education'].mode()[0], inplace=True)"
      ],
      "metadata": {
        "id": "SiTG9kiJDfpr"
      },
      "execution_count": null,
      "outputs": []
    },
    {
      "cell_type": "code",
      "source": [
        "Data_dict = pd.DataFrame(df.dtypes)\n",
        "Data_dict"
      ],
      "metadata": {
        "id": "pr-wwVVsDy8b",
        "colab": {
          "base_uri": "https://localhost:8080/",
          "height": 864
        },
        "outputId": "01337078-2821-4084-acf1-2fc332fe419a"
      },
      "execution_count": null,
      "outputs": [
        {
          "output_type": "execute_result",
          "data": {
            "text/plain": [
              "                               0\n",
              "timestamp                 object\n",
              "company                   object\n",
              "level                     object\n",
              "title                     object\n",
              "totalyearlycompensation    int64\n",
              "location                  object\n",
              "yearsofexperience        float64\n",
              "yearsatcompany           float64\n",
              "basesalary               float64\n",
              "stockgrantvalue          float64\n",
              "bonus                      int64\n",
              "gender                    object\n",
              "cityid                     int64\n",
              "dmaid                      int64\n",
              "rowNumber                  int64\n",
              "Masters_Degree             int64\n",
              "Bachelors_Degree           int64\n",
              "Doctorate_Degree           int64\n",
              "Highschool                 int64\n",
              "Some_College               int64\n",
              "Race_Asian                 int64\n",
              "Race_White                 int64\n",
              "Race_Two_Or_More           int64\n",
              "Race_Black                 int64\n",
              "Race_Hispanic              int64\n",
              "Education                 object"
            ],
            "text/html": [
              "\n",
              "  <div id=\"df-247f4e0e-e432-4926-a31d-184524b7026b\">\n",
              "    <div class=\"colab-df-container\">\n",
              "      <div>\n",
              "<style scoped>\n",
              "    .dataframe tbody tr th:only-of-type {\n",
              "        vertical-align: middle;\n",
              "    }\n",
              "\n",
              "    .dataframe tbody tr th {\n",
              "        vertical-align: top;\n",
              "    }\n",
              "\n",
              "    .dataframe thead th {\n",
              "        text-align: right;\n",
              "    }\n",
              "</style>\n",
              "<table border=\"1\" class=\"dataframe\">\n",
              "  <thead>\n",
              "    <tr style=\"text-align: right;\">\n",
              "      <th></th>\n",
              "      <th>0</th>\n",
              "    </tr>\n",
              "  </thead>\n",
              "  <tbody>\n",
              "    <tr>\n",
              "      <th>timestamp</th>\n",
              "      <td>object</td>\n",
              "    </tr>\n",
              "    <tr>\n",
              "      <th>company</th>\n",
              "      <td>object</td>\n",
              "    </tr>\n",
              "    <tr>\n",
              "      <th>level</th>\n",
              "      <td>object</td>\n",
              "    </tr>\n",
              "    <tr>\n",
              "      <th>title</th>\n",
              "      <td>object</td>\n",
              "    </tr>\n",
              "    <tr>\n",
              "      <th>totalyearlycompensation</th>\n",
              "      <td>int64</td>\n",
              "    </tr>\n",
              "    <tr>\n",
              "      <th>location</th>\n",
              "      <td>object</td>\n",
              "    </tr>\n",
              "    <tr>\n",
              "      <th>yearsofexperience</th>\n",
              "      <td>float64</td>\n",
              "    </tr>\n",
              "    <tr>\n",
              "      <th>yearsatcompany</th>\n",
              "      <td>float64</td>\n",
              "    </tr>\n",
              "    <tr>\n",
              "      <th>basesalary</th>\n",
              "      <td>float64</td>\n",
              "    </tr>\n",
              "    <tr>\n",
              "      <th>stockgrantvalue</th>\n",
              "      <td>float64</td>\n",
              "    </tr>\n",
              "    <tr>\n",
              "      <th>bonus</th>\n",
              "      <td>int64</td>\n",
              "    </tr>\n",
              "    <tr>\n",
              "      <th>gender</th>\n",
              "      <td>object</td>\n",
              "    </tr>\n",
              "    <tr>\n",
              "      <th>cityid</th>\n",
              "      <td>int64</td>\n",
              "    </tr>\n",
              "    <tr>\n",
              "      <th>dmaid</th>\n",
              "      <td>int64</td>\n",
              "    </tr>\n",
              "    <tr>\n",
              "      <th>rowNumber</th>\n",
              "      <td>int64</td>\n",
              "    </tr>\n",
              "    <tr>\n",
              "      <th>Masters_Degree</th>\n",
              "      <td>int64</td>\n",
              "    </tr>\n",
              "    <tr>\n",
              "      <th>Bachelors_Degree</th>\n",
              "      <td>int64</td>\n",
              "    </tr>\n",
              "    <tr>\n",
              "      <th>Doctorate_Degree</th>\n",
              "      <td>int64</td>\n",
              "    </tr>\n",
              "    <tr>\n",
              "      <th>Highschool</th>\n",
              "      <td>int64</td>\n",
              "    </tr>\n",
              "    <tr>\n",
              "      <th>Some_College</th>\n",
              "      <td>int64</td>\n",
              "    </tr>\n",
              "    <tr>\n",
              "      <th>Race_Asian</th>\n",
              "      <td>int64</td>\n",
              "    </tr>\n",
              "    <tr>\n",
              "      <th>Race_White</th>\n",
              "      <td>int64</td>\n",
              "    </tr>\n",
              "    <tr>\n",
              "      <th>Race_Two_Or_More</th>\n",
              "      <td>int64</td>\n",
              "    </tr>\n",
              "    <tr>\n",
              "      <th>Race_Black</th>\n",
              "      <td>int64</td>\n",
              "    </tr>\n",
              "    <tr>\n",
              "      <th>Race_Hispanic</th>\n",
              "      <td>int64</td>\n",
              "    </tr>\n",
              "    <tr>\n",
              "      <th>Education</th>\n",
              "      <td>object</td>\n",
              "    </tr>\n",
              "  </tbody>\n",
              "</table>\n",
              "</div>\n",
              "      <button class=\"colab-df-convert\" onclick=\"convertToInteractive('df-247f4e0e-e432-4926-a31d-184524b7026b')\"\n",
              "              title=\"Convert this dataframe to an interactive table.\"\n",
              "              style=\"display:none;\">\n",
              "        \n",
              "  <svg xmlns=\"http://www.w3.org/2000/svg\" height=\"24px\"viewBox=\"0 0 24 24\"\n",
              "       width=\"24px\">\n",
              "    <path d=\"M0 0h24v24H0V0z\" fill=\"none\"/>\n",
              "    <path d=\"M18.56 5.44l.94 2.06.94-2.06 2.06-.94-2.06-.94-.94-2.06-.94 2.06-2.06.94zm-11 1L8.5 8.5l.94-2.06 2.06-.94-2.06-.94L8.5 2.5l-.94 2.06-2.06.94zm10 10l.94 2.06.94-2.06 2.06-.94-2.06-.94-.94-2.06-.94 2.06-2.06.94z\"/><path d=\"M17.41 7.96l-1.37-1.37c-.4-.4-.92-.59-1.43-.59-.52 0-1.04.2-1.43.59L10.3 9.45l-7.72 7.72c-.78.78-.78 2.05 0 2.83L4 21.41c.39.39.9.59 1.41.59.51 0 1.02-.2 1.41-.59l7.78-7.78 2.81-2.81c.8-.78.8-2.07 0-2.86zM5.41 20L4 18.59l7.72-7.72 1.47 1.35L5.41 20z\"/>\n",
              "  </svg>\n",
              "      </button>\n",
              "      \n",
              "  <style>\n",
              "    .colab-df-container {\n",
              "      display:flex;\n",
              "      flex-wrap:wrap;\n",
              "      gap: 12px;\n",
              "    }\n",
              "\n",
              "    .colab-df-convert {\n",
              "      background-color: #E8F0FE;\n",
              "      border: none;\n",
              "      border-radius: 50%;\n",
              "      cursor: pointer;\n",
              "      display: none;\n",
              "      fill: #1967D2;\n",
              "      height: 32px;\n",
              "      padding: 0 0 0 0;\n",
              "      width: 32px;\n",
              "    }\n",
              "\n",
              "    .colab-df-convert:hover {\n",
              "      background-color: #E2EBFA;\n",
              "      box-shadow: 0px 1px 2px rgba(60, 64, 67, 0.3), 0px 1px 3px 1px rgba(60, 64, 67, 0.15);\n",
              "      fill: #174EA6;\n",
              "    }\n",
              "\n",
              "    [theme=dark] .colab-df-convert {\n",
              "      background-color: #3B4455;\n",
              "      fill: #D2E3FC;\n",
              "    }\n",
              "\n",
              "    [theme=dark] .colab-df-convert:hover {\n",
              "      background-color: #434B5C;\n",
              "      box-shadow: 0px 1px 3px 1px rgba(0, 0, 0, 0.15);\n",
              "      filter: drop-shadow(0px 1px 2px rgba(0, 0, 0, 0.3));\n",
              "      fill: #FFFFFF;\n",
              "    }\n",
              "  </style>\n",
              "\n",
              "      <script>\n",
              "        const buttonEl =\n",
              "          document.querySelector('#df-247f4e0e-e432-4926-a31d-184524b7026b button.colab-df-convert');\n",
              "        buttonEl.style.display =\n",
              "          google.colab.kernel.accessAllowed ? 'block' : 'none';\n",
              "\n",
              "        async function convertToInteractive(key) {\n",
              "          const element = document.querySelector('#df-247f4e0e-e432-4926-a31d-184524b7026b');\n",
              "          const dataTable =\n",
              "            await google.colab.kernel.invokeFunction('convertToInteractive',\n",
              "                                                     [key], {});\n",
              "          if (!dataTable) return;\n",
              "\n",
              "          const docLinkHtml = 'Like what you see? Visit the ' +\n",
              "            '<a target=\"_blank\" href=https://colab.research.google.com/notebooks/data_table.ipynb>data table notebook</a>'\n",
              "            + ' to learn more about interactive tables.';\n",
              "          element.innerHTML = '';\n",
              "          dataTable['output_type'] = 'display_data';\n",
              "          await google.colab.output.renderOutput(dataTable, element);\n",
              "          const docLink = document.createElement('div');\n",
              "          docLink.innerHTML = docLinkHtml;\n",
              "          element.appendChild(docLink);\n",
              "        }\n",
              "      </script>\n",
              "    </div>\n",
              "  </div>\n",
              "  "
            ]
          },
          "metadata": {},
          "execution_count": 10
        }
      ]
    },
    {
      "cell_type": "code",
      "source": [
        "Data_dict['MissingVal'] = df.isnull().sum()\n",
        "Data_dict"
      ],
      "metadata": {
        "id": "qEGwjP_jDrsQ",
        "colab": {
          "base_uri": "https://localhost:8080/",
          "height": 864
        },
        "outputId": "f2500bdb-fd91-4e21-d7e2-2acea4a36415"
      },
      "execution_count": null,
      "outputs": [
        {
          "output_type": "execute_result",
          "data": {
            "text/plain": [
              "                               0  MissingVal\n",
              "timestamp                 object           0\n",
              "company                   object           0\n",
              "level                     object           0\n",
              "title                     object           0\n",
              "totalyearlycompensation    int64           0\n",
              "location                  object           0\n",
              "yearsofexperience        float64           0\n",
              "yearsatcompany           float64           0\n",
              "basesalary               float64           0\n",
              "stockgrantvalue          float64           0\n",
              "bonus                      int64           0\n",
              "gender                    object           0\n",
              "cityid                     int64           0\n",
              "dmaid                      int64           0\n",
              "rowNumber                  int64           0\n",
              "Masters_Degree             int64           0\n",
              "Bachelors_Degree           int64           0\n",
              "Doctorate_Degree           int64           0\n",
              "Highschool                 int64           0\n",
              "Some_College               int64           0\n",
              "Race_Asian                 int64           0\n",
              "Race_White                 int64           0\n",
              "Race_Two_Or_More           int64           0\n",
              "Race_Black                 int64           0\n",
              "Race_Hispanic              int64           0\n",
              "Education                 object           0"
            ],
            "text/html": [
              "\n",
              "  <div id=\"df-572106ab-227d-4958-beb0-ce17f40a71df\">\n",
              "    <div class=\"colab-df-container\">\n",
              "      <div>\n",
              "<style scoped>\n",
              "    .dataframe tbody tr th:only-of-type {\n",
              "        vertical-align: middle;\n",
              "    }\n",
              "\n",
              "    .dataframe tbody tr th {\n",
              "        vertical-align: top;\n",
              "    }\n",
              "\n",
              "    .dataframe thead th {\n",
              "        text-align: right;\n",
              "    }\n",
              "</style>\n",
              "<table border=\"1\" class=\"dataframe\">\n",
              "  <thead>\n",
              "    <tr style=\"text-align: right;\">\n",
              "      <th></th>\n",
              "      <th>0</th>\n",
              "      <th>MissingVal</th>\n",
              "    </tr>\n",
              "  </thead>\n",
              "  <tbody>\n",
              "    <tr>\n",
              "      <th>timestamp</th>\n",
              "      <td>object</td>\n",
              "      <td>0</td>\n",
              "    </tr>\n",
              "    <tr>\n",
              "      <th>company</th>\n",
              "      <td>object</td>\n",
              "      <td>0</td>\n",
              "    </tr>\n",
              "    <tr>\n",
              "      <th>level</th>\n",
              "      <td>object</td>\n",
              "      <td>0</td>\n",
              "    </tr>\n",
              "    <tr>\n",
              "      <th>title</th>\n",
              "      <td>object</td>\n",
              "      <td>0</td>\n",
              "    </tr>\n",
              "    <tr>\n",
              "      <th>totalyearlycompensation</th>\n",
              "      <td>int64</td>\n",
              "      <td>0</td>\n",
              "    </tr>\n",
              "    <tr>\n",
              "      <th>location</th>\n",
              "      <td>object</td>\n",
              "      <td>0</td>\n",
              "    </tr>\n",
              "    <tr>\n",
              "      <th>yearsofexperience</th>\n",
              "      <td>float64</td>\n",
              "      <td>0</td>\n",
              "    </tr>\n",
              "    <tr>\n",
              "      <th>yearsatcompany</th>\n",
              "      <td>float64</td>\n",
              "      <td>0</td>\n",
              "    </tr>\n",
              "    <tr>\n",
              "      <th>basesalary</th>\n",
              "      <td>float64</td>\n",
              "      <td>0</td>\n",
              "    </tr>\n",
              "    <tr>\n",
              "      <th>stockgrantvalue</th>\n",
              "      <td>float64</td>\n",
              "      <td>0</td>\n",
              "    </tr>\n",
              "    <tr>\n",
              "      <th>bonus</th>\n",
              "      <td>int64</td>\n",
              "      <td>0</td>\n",
              "    </tr>\n",
              "    <tr>\n",
              "      <th>gender</th>\n",
              "      <td>object</td>\n",
              "      <td>0</td>\n",
              "    </tr>\n",
              "    <tr>\n",
              "      <th>cityid</th>\n",
              "      <td>int64</td>\n",
              "      <td>0</td>\n",
              "    </tr>\n",
              "    <tr>\n",
              "      <th>dmaid</th>\n",
              "      <td>int64</td>\n",
              "      <td>0</td>\n",
              "    </tr>\n",
              "    <tr>\n",
              "      <th>rowNumber</th>\n",
              "      <td>int64</td>\n",
              "      <td>0</td>\n",
              "    </tr>\n",
              "    <tr>\n",
              "      <th>Masters_Degree</th>\n",
              "      <td>int64</td>\n",
              "      <td>0</td>\n",
              "    </tr>\n",
              "    <tr>\n",
              "      <th>Bachelors_Degree</th>\n",
              "      <td>int64</td>\n",
              "      <td>0</td>\n",
              "    </tr>\n",
              "    <tr>\n",
              "      <th>Doctorate_Degree</th>\n",
              "      <td>int64</td>\n",
              "      <td>0</td>\n",
              "    </tr>\n",
              "    <tr>\n",
              "      <th>Highschool</th>\n",
              "      <td>int64</td>\n",
              "      <td>0</td>\n",
              "    </tr>\n",
              "    <tr>\n",
              "      <th>Some_College</th>\n",
              "      <td>int64</td>\n",
              "      <td>0</td>\n",
              "    </tr>\n",
              "    <tr>\n",
              "      <th>Race_Asian</th>\n",
              "      <td>int64</td>\n",
              "      <td>0</td>\n",
              "    </tr>\n",
              "    <tr>\n",
              "      <th>Race_White</th>\n",
              "      <td>int64</td>\n",
              "      <td>0</td>\n",
              "    </tr>\n",
              "    <tr>\n",
              "      <th>Race_Two_Or_More</th>\n",
              "      <td>int64</td>\n",
              "      <td>0</td>\n",
              "    </tr>\n",
              "    <tr>\n",
              "      <th>Race_Black</th>\n",
              "      <td>int64</td>\n",
              "      <td>0</td>\n",
              "    </tr>\n",
              "    <tr>\n",
              "      <th>Race_Hispanic</th>\n",
              "      <td>int64</td>\n",
              "      <td>0</td>\n",
              "    </tr>\n",
              "    <tr>\n",
              "      <th>Education</th>\n",
              "      <td>object</td>\n",
              "      <td>0</td>\n",
              "    </tr>\n",
              "  </tbody>\n",
              "</table>\n",
              "</div>\n",
              "      <button class=\"colab-df-convert\" onclick=\"convertToInteractive('df-572106ab-227d-4958-beb0-ce17f40a71df')\"\n",
              "              title=\"Convert this dataframe to an interactive table.\"\n",
              "              style=\"display:none;\">\n",
              "        \n",
              "  <svg xmlns=\"http://www.w3.org/2000/svg\" height=\"24px\"viewBox=\"0 0 24 24\"\n",
              "       width=\"24px\">\n",
              "    <path d=\"M0 0h24v24H0V0z\" fill=\"none\"/>\n",
              "    <path d=\"M18.56 5.44l.94 2.06.94-2.06 2.06-.94-2.06-.94-.94-2.06-.94 2.06-2.06.94zm-11 1L8.5 8.5l.94-2.06 2.06-.94-2.06-.94L8.5 2.5l-.94 2.06-2.06.94zm10 10l.94 2.06.94-2.06 2.06-.94-2.06-.94-.94-2.06-.94 2.06-2.06.94z\"/><path d=\"M17.41 7.96l-1.37-1.37c-.4-.4-.92-.59-1.43-.59-.52 0-1.04.2-1.43.59L10.3 9.45l-7.72 7.72c-.78.78-.78 2.05 0 2.83L4 21.41c.39.39.9.59 1.41.59.51 0 1.02-.2 1.41-.59l7.78-7.78 2.81-2.81c.8-.78.8-2.07 0-2.86zM5.41 20L4 18.59l7.72-7.72 1.47 1.35L5.41 20z\"/>\n",
              "  </svg>\n",
              "      </button>\n",
              "      \n",
              "  <style>\n",
              "    .colab-df-container {\n",
              "      display:flex;\n",
              "      flex-wrap:wrap;\n",
              "      gap: 12px;\n",
              "    }\n",
              "\n",
              "    .colab-df-convert {\n",
              "      background-color: #E8F0FE;\n",
              "      border: none;\n",
              "      border-radius: 50%;\n",
              "      cursor: pointer;\n",
              "      display: none;\n",
              "      fill: #1967D2;\n",
              "      height: 32px;\n",
              "      padding: 0 0 0 0;\n",
              "      width: 32px;\n",
              "    }\n",
              "\n",
              "    .colab-df-convert:hover {\n",
              "      background-color: #E2EBFA;\n",
              "      box-shadow: 0px 1px 2px rgba(60, 64, 67, 0.3), 0px 1px 3px 1px rgba(60, 64, 67, 0.15);\n",
              "      fill: #174EA6;\n",
              "    }\n",
              "\n",
              "    [theme=dark] .colab-df-convert {\n",
              "      background-color: #3B4455;\n",
              "      fill: #D2E3FC;\n",
              "    }\n",
              "\n",
              "    [theme=dark] .colab-df-convert:hover {\n",
              "      background-color: #434B5C;\n",
              "      box-shadow: 0px 1px 3px 1px rgba(0, 0, 0, 0.15);\n",
              "      filter: drop-shadow(0px 1px 2px rgba(0, 0, 0, 0.3));\n",
              "      fill: #FFFFFF;\n",
              "    }\n",
              "  </style>\n",
              "\n",
              "      <script>\n",
              "        const buttonEl =\n",
              "          document.querySelector('#df-572106ab-227d-4958-beb0-ce17f40a71df button.colab-df-convert');\n",
              "        buttonEl.style.display =\n",
              "          google.colab.kernel.accessAllowed ? 'block' : 'none';\n",
              "\n",
              "        async function convertToInteractive(key) {\n",
              "          const element = document.querySelector('#df-572106ab-227d-4958-beb0-ce17f40a71df');\n",
              "          const dataTable =\n",
              "            await google.colab.kernel.invokeFunction('convertToInteractive',\n",
              "                                                     [key], {});\n",
              "          if (!dataTable) return;\n",
              "\n",
              "          const docLinkHtml = 'Like what you see? Visit the ' +\n",
              "            '<a target=\"_blank\" href=https://colab.research.google.com/notebooks/data_table.ipynb>data table notebook</a>'\n",
              "            + ' to learn more about interactive tables.';\n",
              "          element.innerHTML = '';\n",
              "          dataTable['output_type'] = 'display_data';\n",
              "          await google.colab.output.renderOutput(dataTable, element);\n",
              "          const docLink = document.createElement('div');\n",
              "          docLink.innerHTML = docLinkHtml;\n",
              "          element.appendChild(docLink);\n",
              "        }\n",
              "      </script>\n",
              "    </div>\n",
              "  </div>\n",
              "  "
            ]
          },
          "metadata": {},
          "execution_count": 11
        }
      ]
    },
    {
      "cell_type": "code",
      "source": [
        "\n",
        "df.fillna(\"Not_given\", inplace = True)"
      ],
      "metadata": {
        "id": "DhjhEUXNECOj"
      },
      "execution_count": null,
      "outputs": []
    },
    {
      "cell_type": "code",
      "source": [
        "df.isnull().sum()"
      ],
      "metadata": {
        "id": "hpvitzhREDfP",
        "colab": {
          "base_uri": "https://localhost:8080/"
        },
        "outputId": "ea06eddc-3249-4a63-ce2f-3ade4da39b6d"
      },
      "execution_count": null,
      "outputs": [
        {
          "output_type": "execute_result",
          "data": {
            "text/plain": [
              "timestamp                  0\n",
              "company                    0\n",
              "level                      0\n",
              "title                      0\n",
              "totalyearlycompensation    0\n",
              "location                   0\n",
              "yearsofexperience          0\n",
              "yearsatcompany             0\n",
              "basesalary                 0\n",
              "stockgrantvalue            0\n",
              "bonus                      0\n",
              "gender                     0\n",
              "cityid                     0\n",
              "dmaid                      0\n",
              "rowNumber                  0\n",
              "Masters_Degree             0\n",
              "Bachelors_Degree           0\n",
              "Doctorate_Degree           0\n",
              "Highschool                 0\n",
              "Some_College               0\n",
              "Race_Asian                 0\n",
              "Race_White                 0\n",
              "Race_Two_Or_More           0\n",
              "Race_Black                 0\n",
              "Race_Hispanic              0\n",
              "Education                  0\n",
              "dtype: int64"
            ]
          },
          "metadata": {},
          "execution_count": 13
        }
      ]
    },
    {
      "cell_type": "code",
      "source": [
        "# Droping the unwanted columns\n",
        "\n",
        "df.drop(columns='timestamp', inplace=True)\n",
        "df.drop(columns='Masters_Degree', inplace=True)\n",
        "df.drop(columns='Bachelors_Degree', inplace=True)\n",
        "df.drop(columns='Doctorate_Degree', inplace=True)\n",
        "df.drop(columns='Highschool', inplace=True)\n",
        "df.drop(columns='Some_College', inplace=True)"
      ],
      "metadata": {
        "id": "V0Satj0LEMgX"
      },
      "execution_count": null,
      "outputs": []
    },
    {
      "cell_type": "code",
      "source": [
        "df.drop(columns='Race_Asian', inplace=True)\n",
        "df.drop(columns='Race_White', inplace=True)\n",
        "df.drop(columns='Race_Two_Or_More', inplace=True)\n",
        "df.drop(columns='Race_Black', inplace=True)\n",
        "df.drop(columns='Race_Hispanic', inplace=True)\n",
        "df.drop(columns='level', inplace=True)\n",
        "df.drop(columns='rowNumber', inplace=True)"
      ],
      "metadata": {
        "id": "t7-CuczCEP2N"
      },
      "execution_count": null,
      "outputs": []
    },
    {
      "cell_type": "code",
      "source": [
        "df.shape"
      ],
      "metadata": {
        "colab": {
          "base_uri": "https://localhost:8080/"
        },
        "id": "7FcWnpDTEXK0",
        "outputId": "271e6fc1-2957-4acb-c0c0-7dcc31dea54e"
      },
      "execution_count": null,
      "outputs": [
        {
          "output_type": "execute_result",
          "data": {
            "text/plain": [
              "(1000, 13)"
            ]
          },
          "metadata": {},
          "execution_count": 16
        }
      ]
    },
    {
      "cell_type": "code",
      "source": [
        "df.columns"
      ],
      "metadata": {
        "colab": {
          "base_uri": "https://localhost:8080/"
        },
        "id": "pmmCdVvOET3e",
        "outputId": "de5ebd97-c404-43e6-fe45-31df2cb956ac"
      },
      "execution_count": null,
      "outputs": [
        {
          "output_type": "execute_result",
          "data": {
            "text/plain": [
              "Index(['company', 'title', 'totalyearlycompensation', 'location',\n",
              "       'yearsofexperience', 'yearsatcompany', 'basesalary', 'stockgrantvalue',\n",
              "       'bonus', 'gender', 'cityid', 'dmaid', 'Education'],\n",
              "      dtype='object')"
            ]
          },
          "metadata": {},
          "execution_count": 17
        }
      ]
    },
    {
      "cell_type": "code",
      "source": [
        "from sklearn.preprocessing import LabelEncoder\n",
        "\n",
        "# Define a categorical feature\n",
        "company = df['company']\n",
        "title = df['title']\n",
        "gender = df['gender']\n",
        "location = df['location']\n",
        "Education = df['Education']\n",
        "\n",
        "\n",
        "# Create a label encoder object\n",
        "le = LabelEncoder()\n",
        "\n",
        "# Fit the label encoder to the categorical feature and transform it\n",
        "df['company'] = le.fit_transform(company)\n",
        "df['title'] = le.fit_transform(title)\n",
        "df['gender'] = le.fit_transform(gender)\n",
        "df['location'] = le.fit_transform(location)\n",
        "df['Education'] = le.fit_transform(Education)"
      ],
      "metadata": {
        "id": "9QXqnJsGEiW7"
      },
      "execution_count": null,
      "outputs": []
    },
    {
      "cell_type": "code",
      "source": [
        "def find_outliers_IQR(df):\n",
        "  Q1 = np.percentile(df, 25)\n",
        "  Q3 = np.percentile(df, 75)\n",
        "  IQR = Q3 - Q1\n",
        "  lower_bound = Q1 - 1.5*IQR\n",
        "  upper_bound = Q3 + 1.5*IQR\n",
        "  outliers = df[(df > lower_bound) | (df < upper_bound)]\n",
        "  return outliers, Q1, Q3, IQR"
      ],
      "metadata": {
        "id": "bB9_DzaH-tHf"
      },
      "execution_count": null,
      "outputs": []
    },
    {
      "cell_type": "code",
      "source": [
        "outliers=find_outliers_IQR(df)\n",
        "print(outliers)"
      ],
      "metadata": {
        "id": "ivsG0rhDAOLf",
        "colab": {
          "base_uri": "https://localhost:8080/"
        },
        "outputId": "12baa95a-f3e7-45e5-c6d0-d5f3e2a94116"
      },
      "execution_count": null,
      "outputs": [
        {
          "output_type": "stream",
          "name": "stdout",
          "text": [
            "(     company  title  totalyearlycompensation  location  yearsofexperience  \\\n",
            "0         67      3                   127000        53                1.5   \n",
            "1        123      4                   100000        59                5.0   \n",
            "2          6      3                   310000        64                8.0   \n",
            "3          8      5                   372000        67                7.0   \n",
            "4         57      4                   157000        40                5.0   \n",
            "..       ...    ...                      ...       ...                ...   \n",
            "995       32      3                   210000        35                5.0   \n",
            "996      127      4                   290000        67                6.0   \n",
            "997       44      4                   150000         3                5.0   \n",
            "998        8      4                   275000        18                5.0   \n",
            "999       37      3                   500000        64               16.0   \n",
            "\n",
            "     yearsatcompany  basesalary  stockgrantvalue  bonus  gender  cityid  \\\n",
            "0               1.5    107000.0          20000.0  10000       1    7392   \n",
            "1               3.0         0.0              0.0      0       1    7419   \n",
            "2               0.0    155000.0              0.0      0       1   11527   \n",
            "3               5.0    157000.0         180000.0  35000       1    7472   \n",
            "4               3.0         0.0              0.0      0       1    7322   \n",
            "..              ...         ...              ...    ...     ...     ...   \n",
            "995             1.0    145000.0          50000.0  15000       1    7300   \n",
            "996             4.0    170000.0         100000.0  20000       1    7472   \n",
            "997             1.0    125000.0              0.0  25000       1   10965   \n",
            "998             3.0         0.0              0.0      0       1    7158   \n",
            "999             2.0    212000.0         130000.0  54000       1   11527   \n",
            "\n",
            "     dmaid  Education  \n",
            "0      807          0  \n",
            "1      807          0  \n",
            "2      819          0  \n",
            "3      807          0  \n",
            "4      807          0  \n",
            "..     ...        ...  \n",
            "995    807          0  \n",
            "996    807          0  \n",
            "997    635          0  \n",
            "998    807          0  \n",
            "999    819          0  \n",
            "\n",
            "[1000 rows x 13 columns], 1.0, 11521.0, 11520.0)\n"
          ]
        }
      ]
    },
    {
      "cell_type": "code",
      "source": [
        "# Split the data into features and target\n",
        "features = df.drop(['basesalary'], axis=1).values\n",
        "target = df['basesalary'].values.reshape(-1, 1)"
      ],
      "metadata": {
        "id": "r4ePlV4lFBxi"
      },
      "execution_count": null,
      "outputs": []
    },
    {
      "cell_type": "code",
      "source": [
        "from sklearn.model_selection import train_test_split\n",
        "X_train, X_test, y_train, y_test = train_test_split(features, target, test_size=0.33,  random_state = 2)"
      ],
      "metadata": {
        "id": "0HRNVLg8FFS6"
      },
      "execution_count": null,
      "outputs": []
    },
    {
      "cell_type": "code",
      "source": [
        "# creating a class for Lasso Regression\n",
        "\n",
        "class Lasso_Regression():\n",
        "\n",
        "  #initiating the hyperparameters\n",
        "  def __init__(self, learning_rate, no_of_iterations, lambda_parameter):\n",
        "\n",
        "    self.learning_rate = learning_rate\n",
        "    self.no_of_iterations = no_of_iterations\n",
        "    self.lambda_parameter = lambda_parameter\n",
        "\n",
        "\n",
        "  # fitting the dataset to the Lasso Regression model\n",
        "  def fit(self, X, Y):\n",
        "\n",
        "    # m --> number of Data points --> number of rows\n",
        "    # n --> number of input features --> number of columns\n",
        "    self.m, self.n = X.shape\n",
        "\n",
        "    self.w = np.zeros(self.n)\n",
        "\n",
        "    self.b = 0\n",
        "\n",
        "    self.X = X\n",
        "\n",
        "    self.Y = Y\n",
        "\n",
        "    # implementing Gradient Descent algorithm for Optimization\n",
        "\n",
        "    for i in range(self.no_of_iterations):     # missed \"self\"\n",
        "      self.upadte_weights()\n",
        "\n",
        "\n",
        "  # function for updating the weight & bias value\n",
        "  def upadte_weights(self):\n",
        "\n",
        "    # linear equation of the model\n",
        "    Y_prediction = self.predict(self.X)\n",
        "\n",
        "    # gradients (dw, db)\n",
        "\n",
        "    # gradient for weight\n",
        "    dw = np.zeros(self.n)\n",
        "\n",
        "    for i in range(self.n):\n",
        "\n",
        "      if self.w[i]>0:\n",
        "\n",
        "        dw[i] = (-(2*(self.X[:,i]).dot(self.Y - Y_prediction)) + self.lambda_parameter) / self.m \n",
        "\n",
        "      else :\n",
        "\n",
        "        dw[i] = (-(2*(self.X[:,i]).dot(self.Y - Y_prediction)) - self.lambda_parameter) / self.m\n",
        "\n",
        "\n",
        "    # gradient for bias\n",
        "    db = - 2 * np.sum(self.Y - Y_prediction) / self.m\n",
        "\n",
        "\n",
        "    # updating the weights & bias\n",
        "\n",
        "    self.w = self.w - self.learning_rate*dw\n",
        "    self.b = self.b - self.learning_rate*db\n",
        "\n",
        "    \n",
        "\n",
        "\n",
        "  # Predicting the Target variable\n",
        "  def predict(self,X):\n",
        "    return np.dot(X, self.w.reshape(-1,1)) + self.b\n",
        "  \n",
        "  def mean_squared_error(self,y_true, y_pred):\n",
        "   \n",
        "      # Check if the lengths of both arrays are equal\n",
        "      if len(y_true) != len(y_pred):\n",
        "          raise ValueError(\"Length of y_true and y_pred should be the same.\")\n",
        "      \n",
        "      # Calculate the squared differences between the true and predicted values\n",
        "      squared_differences = [(y_true[i] - y_pred[i])**2 for i in range(len(y_true))]\n",
        "      \n",
        "      # Calculate the mean of the squared differences\n",
        "      mse1 = sum(squared_differences) / len(squared_differences)\n",
        "      \n",
        "      return mse1\n",
        "  def r2(self,y_true, y_pred):\n",
        "    # Calculate the mean of the true values\n",
        "    y_true_mean = sum(y_true) / len(y_true)\n",
        "    \n",
        "    # Calculate the total sum of squares (TSS)\n",
        "    tss = sum((y_true - y_true_mean) ** 2)\n",
        "    \n",
        "    # Calculate the residual sum of squares (RSS)\n",
        "    rss = sum((y_true - y_pred) ** 2)\n",
        "    \n",
        "    # Calculate the R-squared value\n",
        "    r2_score = 1 - (rss / tss)\n",
        "    \n",
        "    return r2_score"
      ],
      "metadata": {
        "id": "4x0jZ91O0gWF"
      },
      "execution_count": null,
      "outputs": []
    },
    {
      "cell_type": "code",
      "source": [
        "scaler = StandardScaler()\n",
        "X_train = scaler.fit_transform(X_train)\n",
        "X_test = scaler.transform(X_test)"
      ],
      "metadata": {
        "id": "6Zm9yD0_Gq2o"
      },
      "execution_count": null,
      "outputs": []
    },
    {
      "cell_type": "code",
      "source": [
        "model = Lasso_Regression(learning_rate = 0.1, no_of_iterations=1000,\n",
        "                         lambda_parameter=200)"
      ],
      "metadata": {
        "id": "ynLfzB-Q0mtm"
      },
      "execution_count": null,
      "outputs": []
    },
    {
      "cell_type": "code",
      "source": [
        "model.fit(X_train, y_train)"
      ],
      "metadata": {
        "id": "ZlF2XuX30rFV"
      },
      "execution_count": null,
      "outputs": []
    },
    {
      "cell_type": "code",
      "source": [
        "test_data_prediction = model.predict(X_test)"
      ],
      "metadata": {
        "id": "6pvXL_S_1AyZ"
      },
      "execution_count": null,
      "outputs": []
    },
    {
      "cell_type": "code",
      "source": [
        "from sklearn import metrics\n",
        "\n",
        "# R squared error\n",
        "score_1 = model.r2(y_test, test_data_prediction)\n",
        "\n",
        "# Mean Absolute Error\n",
        "score_2 = model.mean_squared_error(y_test, test_data_prediction)\n",
        "\n",
        "print(\"R squared error : \", score_1)\n",
        "print('Mean Absolute Error : ', score_2)"
      ],
      "metadata": {
        "colab": {
          "base_uri": "https://localhost:8080/"
        },
        "id": "ZkpU1dUX1Atb",
        "outputId": "3df3fcda-b0be-4b8d-ce2e-a8a05d3cd26e"
      },
      "execution_count": null,
      "outputs": [
        {
          "output_type": "stream",
          "name": "stdout",
          "text": [
            "R squared error :  [0.16859972]\n",
            "Mean Absolute Error :  [4.31275901e+09]\n"
          ]
        }
      ]
    },
    {
      "cell_type": "code",
      "source": [
        "# Importing libraries\n",
        "  \n",
        "import numpy as np\n",
        "  \n",
        "import pandas as pd\n",
        "  \n",
        "from sklearn.model_selection import train_test_split\n",
        "  \n",
        "import matplotlib.pyplot as plt\n",
        "  \n",
        "# Lasso Regression\n",
        "  \n",
        "class LassoRegression() :\n",
        "      \n",
        "    def __init__( self, learning_rate, iterations, l1_penality ) :\n",
        "          \n",
        "        self.learning_rate = learning_rate\n",
        "          \n",
        "        self.iterations = iterations\n",
        "          \n",
        "        self.l1_penality = l1_penality\n",
        "          \n",
        "    # Function for model training\n",
        "              \n",
        "    def fit( self, X, Y ) :\n",
        "          \n",
        "        # no_of_training_examples, no_of_features\n",
        "          \n",
        "        self.m, self.n = X.shape\n",
        "          \n",
        "        # weight initialization\n",
        "          \n",
        "        self.W = np.zeros( self.n )\n",
        "          \n",
        "        self.b = 0\n",
        "          \n",
        "        self.X = X\n",
        "          \n",
        "        self.Y = Y\n",
        "          \n",
        "        # gradient descent learning\n",
        "                  \n",
        "        for i in range( self.iterations ) :\n",
        "              \n",
        "            self.update_weights()\n",
        "              \n",
        "        return self\n",
        "      \n",
        "    # Helper function to update weights in gradient descent\n",
        "      \n",
        "    def update_weights( self ) :\n",
        "             \n",
        "        Y_pred = self.predict( self.X )\n",
        "          \n",
        "        # calculate gradients  \n",
        "          \n",
        "        dW = np.zeros( self.n )\n",
        "          \n",
        "        for j in range( self.n ) :\n",
        "              \n",
        "            if self.W[j] > 0 :\n",
        "                  \n",
        "                dW[j] = ( - ( 2 * ( self.X[:, j] ).dot( self.Y - Y_pred ) ) \n",
        "                           \n",
        "                         + self.l1_penality ) / self.m\n",
        "          \n",
        "            else :\n",
        "                  \n",
        "                dW[j] = ( - ( 2 * ( self.X[:, j] ).dot( self.Y - Y_pred ) ) \n",
        "                           \n",
        "                         - self.l1_penality ) / self.m\n",
        "  \n",
        "       \n",
        "        db = - 2 * np.sum( self.Y - Y_pred ) / self.m \n",
        "          \n",
        "        # update weights\n",
        "      \n",
        "        self.W = self.W - self.learning_rate * dW\n",
        "      \n",
        "        self.b = self.b - self.learning_rate * db\n",
        "          \n",
        "        return self\n",
        "      \n",
        "    # Hypothetical function  h( x ) \n",
        "      \n",
        "    def predict( self, X ) :\n",
        "      \n",
        "        return X.dot( self.W ) + self.b"
      ],
      "metadata": {
        "id": "pEB7EjYc6H4W"
      },
      "execution_count": null,
      "outputs": []
    },
    {
      "cell_type": "code",
      "source": [
        "# Split the data into features and target\n",
        "X = df.drop(['basesalary'], axis=1).values\n",
        "y = df['basesalary'].values.reshape(-1, 1)"
      ],
      "metadata": {
        "id": "s5Z1fKC83qeg"
      },
      "execution_count": null,
      "outputs": []
    },
    {
      "cell_type": "code",
      "source": [
        "X_train, X_test, Y_train, Y_test = train_test_split( X, y, test_size = 1 / 3, random_state = 0 )"
      ],
      "metadata": {
        "id": "Pbj2cnKd6pyQ"
      },
      "execution_count": null,
      "outputs": []
    },
    {
      "cell_type": "code",
      "source": [
        "model = LassoRegression( iterations = 1000, learning_rate = 0.01, l1_penality = 500 )"
      ],
      "metadata": {
        "id": "JuCMogVM6MAe"
      },
      "execution_count": null,
      "outputs": []
    },
    {
      "cell_type": "code",
      "source": [
        "y_train = y_train[:X_train.shape[0]]"
      ],
      "metadata": {
        "id": "gWqkflCm4lzn"
      },
      "execution_count": null,
      "outputs": []
    },
    {
      "cell_type": "code",
      "source": [
        "model.fit( X_train, y_train )"
      ],
      "metadata": {
        "id": "W3uAg1ah6Wkw"
      },
      "execution_count": null,
      "outputs": []
    },
    {
      "cell_type": "code",
      "source": [
        "X_train.shape\n"
      ],
      "metadata": {
        "id": "lFhv86_I3_Jj"
      },
      "execution_count": null,
      "outputs": []
    },
    {
      "cell_type": "code",
      "source": [
        "Y_train.shape"
      ],
      "metadata": {
        "id": "0D7xBhZl3_G7"
      },
      "execution_count": null,
      "outputs": []
    },
    {
      "cell_type": "code",
      "source": [],
      "metadata": {
        "id": "u4X_5nVf3_FW"
      },
      "execution_count": null,
      "outputs": []
    },
    {
      "cell_type": "code",
      "source": [],
      "metadata": {
        "id": "AZwXipqY3_C9"
      },
      "execution_count": null,
      "outputs": []
    },
    {
      "cell_type": "code",
      "source": [],
      "metadata": {
        "id": "OtCmKJMG3_Al"
      },
      "execution_count": null,
      "outputs": []
    },
    {
      "cell_type": "code",
      "source": [],
      "metadata": {
        "id": "EMBA1kNa3-91"
      },
      "execution_count": null,
      "outputs": []
    }
  ]
}