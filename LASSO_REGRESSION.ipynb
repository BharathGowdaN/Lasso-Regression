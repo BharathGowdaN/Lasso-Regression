{
  "nbformat": 4,
  "nbformat_minor": 0,
  "metadata": {
    "colab": {
      "provenance": []
    },
    "kernelspec": {
      "name": "python3",
      "display_name": "Python 3"
    },
    "language_info": {
      "name": "python"
    }
  },
  "cells": [
    {
      "cell_type": "code",
      "execution_count": 804,
      "metadata": {
        "id": "CYjswkSf8x02"
      },
      "outputs": [],
      "source": [
        "import numpy as np # numpy used for mathematical operation on array\n",
        "import pandas as pd  # pandas used for data manipulation on dataframe\n",
        "from sklearn.preprocessing import StandardScaler\n",
        "import matplotlib.pyplot as plt\n",
        "import seaborn as sns\n",
        "import random"
      ]
    },
    {
      "cell_type": "code",
      "source": [
        "df= pd.read_csv(\"/content/Salary_Data.csv\")"
      ],
      "metadata": {
        "id": "YhBrA1HG8_Jn"
      },
      "execution_count": 816,
      "outputs": []
    },
    {
      "cell_type": "code",
      "source": [
        "df.shape"
      ],
      "metadata": {
        "colab": {
          "base_uri": "https://localhost:8080/"
        },
        "id": "INNuBiEu9glD",
        "outputId": "1237d084-7b5f-4e26-f1fd-d8fd9f933a2a"
      },
      "execution_count": 811,
      "outputs": [
        {
          "output_type": "execute_result",
          "data": {
            "text/plain": [
              "(7000, 29)"
            ]
          },
          "metadata": {},
          "execution_count": 811
        }
      ]
    },
    {
      "cell_type": "code",
      "source": [
        "df.tail(20)"
      ],
      "metadata": {
        "colab": {
          "base_uri": "https://localhost:8080/",
          "height": 720
        },
        "id": "0aQE-hQ3fHsF",
        "outputId": "7e9db901-d395-4827-fc83-f670e24e400e"
      },
      "execution_count": 843,
      "outputs": [
        {
          "output_type": "execute_result",
          "data": {
            "text/plain": [
              "       company  title  totalyearlycompensation  location  yearsofexperience  \\\n",
              "62622     1288     11                   250000       109               18.0   \n",
              "62623      628      1                   175000       816                6.0   \n",
              "62624      818     11                   157000       858                3.0   \n",
              "62625      818      8                   185000       765                2.0   \n",
              "62626      818     11                   122000       765                1.0   \n",
              "62627      556     11                   169000       814                0.0   \n",
              "62628      818      8                   171000        76                1.0   \n",
              "62629      818     11                   132000       765                0.0   \n",
              "62630      818     12                   250000       858                7.0   \n",
              "62631      461     12                   421000       561               13.0   \n",
              "62632      990     11                   185000       816                8.0   \n",
              "62633     1070     11                   230000        76                5.0   \n",
              "62634       64     11                   213000       858                6.0   \n",
              "62635     1397     11                   170000       858                2.0   \n",
              "62636     1459      7                   172000       823                4.0   \n",
              "62637      556     11                   327000       858               10.0   \n",
              "62638      818     11                   237000       765                2.0   \n",
              "62639      753     11                   220000       858               14.0   \n",
              "62640     1070     11                   280000       822                8.0   \n",
              "62641     1405     11                   200000       908                0.0   \n",
              "\n",
              "       yearsatcompany  basesalary  stockgrantvalue    bonus  gender  cityid  \\\n",
              "62622             5.0    175000.0          50000.0  30000.0       1    8816   \n",
              "62623             2.0    135000.0          29000.0  11000.0       1    7416   \n",
              "62624             3.0    134000.0           8000.0  15000.0       1   11527   \n",
              "62625             2.0    130000.0          39000.0  16000.0       1   11521   \n",
              "62626             0.0    106500.0          20000.0  10000.0       1   11521   \n",
              "62627             0.0    125000.0          25000.0  18750.0       1    7413   \n",
              "62628             1.0    116000.0          42850.0  12500.0       1   11470   \n",
              "62629             0.0    108000.0          17500.0   6250.0       1   11521   \n",
              "62630             7.0    180000.0          25000.0  45000.0       1   11527   \n",
              "62631             3.0    193000.0         200000.0  28950.0       1    7300   \n",
              "62632             8.0    129000.0          40000.0  15000.0       1    7416   \n",
              "62633             1.0    153500.0          31000.0  23025.0       1   11470   \n",
              "62634             4.0    147500.0          38000.0  35000.0       1   11527   \n",
              "62635             2.0    130000.0          27000.0  13000.0       1   11527   \n",
              "62636             2.0    142000.0          15000.0  14200.0       1    7422   \n",
              "62637             1.0    155000.0         150000.0  22000.0       1   11527   \n",
              "62638             2.0    146900.0          73200.0  16000.0       1   11521   \n",
              "62639            12.0    157000.0          25000.0  20000.0       1   11527   \n",
              "62640             4.0    194688.0          57000.0  29000.0       1    7419   \n",
              "62641             0.0    155000.0          27000.0  19000.0       1    7472   \n",
              "\n",
              "       dmaid  Education  \n",
              "62622  506.0          2  \n",
              "62623  825.0          2  \n",
              "62624  819.0          2  \n",
              "62625  819.0          2  \n",
              "62626  819.0          2  \n",
              "62627  807.0          2  \n",
              "62628  819.0          2  \n",
              "62629  819.0          2  \n",
              "62630  819.0          2  \n",
              "62631  807.0          2  \n",
              "62632  825.0          2  \n",
              "62633  819.0          2  \n",
              "62634  819.0          2  \n",
              "62635  819.0          2  \n",
              "62636  807.0          2  \n",
              "62637  819.0          2  \n",
              "62638  819.0          2  \n",
              "62639  819.0          2  \n",
              "62640  807.0          2  \n",
              "62641  807.0          2  "
            ],
            "text/html": [
              "\n",
              "  <div id=\"df-522530a1-6743-4742-8d37-e8165ded4585\">\n",
              "    <div class=\"colab-df-container\">\n",
              "      <div>\n",
              "<style scoped>\n",
              "    .dataframe tbody tr th:only-of-type {\n",
              "        vertical-align: middle;\n",
              "    }\n",
              "\n",
              "    .dataframe tbody tr th {\n",
              "        vertical-align: top;\n",
              "    }\n",
              "\n",
              "    .dataframe thead th {\n",
              "        text-align: right;\n",
              "    }\n",
              "</style>\n",
              "<table border=\"1\" class=\"dataframe\">\n",
              "  <thead>\n",
              "    <tr style=\"text-align: right;\">\n",
              "      <th></th>\n",
              "      <th>company</th>\n",
              "      <th>title</th>\n",
              "      <th>totalyearlycompensation</th>\n",
              "      <th>location</th>\n",
              "      <th>yearsofexperience</th>\n",
              "      <th>yearsatcompany</th>\n",
              "      <th>basesalary</th>\n",
              "      <th>stockgrantvalue</th>\n",
              "      <th>bonus</th>\n",
              "      <th>gender</th>\n",
              "      <th>cityid</th>\n",
              "      <th>dmaid</th>\n",
              "      <th>Education</th>\n",
              "    </tr>\n",
              "  </thead>\n",
              "  <tbody>\n",
              "    <tr>\n",
              "      <th>62622</th>\n",
              "      <td>1288</td>\n",
              "      <td>11</td>\n",
              "      <td>250000</td>\n",
              "      <td>109</td>\n",
              "      <td>18.0</td>\n",
              "      <td>5.0</td>\n",
              "      <td>175000.0</td>\n",
              "      <td>50000.0</td>\n",
              "      <td>30000.0</td>\n",
              "      <td>1</td>\n",
              "      <td>8816</td>\n",
              "      <td>506.0</td>\n",
              "      <td>2</td>\n",
              "    </tr>\n",
              "    <tr>\n",
              "      <th>62623</th>\n",
              "      <td>628</td>\n",
              "      <td>1</td>\n",
              "      <td>175000</td>\n",
              "      <td>816</td>\n",
              "      <td>6.0</td>\n",
              "      <td>2.0</td>\n",
              "      <td>135000.0</td>\n",
              "      <td>29000.0</td>\n",
              "      <td>11000.0</td>\n",
              "      <td>1</td>\n",
              "      <td>7416</td>\n",
              "      <td>825.0</td>\n",
              "      <td>2</td>\n",
              "    </tr>\n",
              "    <tr>\n",
              "      <th>62624</th>\n",
              "      <td>818</td>\n",
              "      <td>11</td>\n",
              "      <td>157000</td>\n",
              "      <td>858</td>\n",
              "      <td>3.0</td>\n",
              "      <td>3.0</td>\n",
              "      <td>134000.0</td>\n",
              "      <td>8000.0</td>\n",
              "      <td>15000.0</td>\n",
              "      <td>1</td>\n",
              "      <td>11527</td>\n",
              "      <td>819.0</td>\n",
              "      <td>2</td>\n",
              "    </tr>\n",
              "    <tr>\n",
              "      <th>62625</th>\n",
              "      <td>818</td>\n",
              "      <td>8</td>\n",
              "      <td>185000</td>\n",
              "      <td>765</td>\n",
              "      <td>2.0</td>\n",
              "      <td>2.0</td>\n",
              "      <td>130000.0</td>\n",
              "      <td>39000.0</td>\n",
              "      <td>16000.0</td>\n",
              "      <td>1</td>\n",
              "      <td>11521</td>\n",
              "      <td>819.0</td>\n",
              "      <td>2</td>\n",
              "    </tr>\n",
              "    <tr>\n",
              "      <th>62626</th>\n",
              "      <td>818</td>\n",
              "      <td>11</td>\n",
              "      <td>122000</td>\n",
              "      <td>765</td>\n",
              "      <td>1.0</td>\n",
              "      <td>0.0</td>\n",
              "      <td>106500.0</td>\n",
              "      <td>20000.0</td>\n",
              "      <td>10000.0</td>\n",
              "      <td>1</td>\n",
              "      <td>11521</td>\n",
              "      <td>819.0</td>\n",
              "      <td>2</td>\n",
              "    </tr>\n",
              "    <tr>\n",
              "      <th>62627</th>\n",
              "      <td>556</td>\n",
              "      <td>11</td>\n",
              "      <td>169000</td>\n",
              "      <td>814</td>\n",
              "      <td>0.0</td>\n",
              "      <td>0.0</td>\n",
              "      <td>125000.0</td>\n",
              "      <td>25000.0</td>\n",
              "      <td>18750.0</td>\n",
              "      <td>1</td>\n",
              "      <td>7413</td>\n",
              "      <td>807.0</td>\n",
              "      <td>2</td>\n",
              "    </tr>\n",
              "    <tr>\n",
              "      <th>62628</th>\n",
              "      <td>818</td>\n",
              "      <td>8</td>\n",
              "      <td>171000</td>\n",
              "      <td>76</td>\n",
              "      <td>1.0</td>\n",
              "      <td>1.0</td>\n",
              "      <td>116000.0</td>\n",
              "      <td>42850.0</td>\n",
              "      <td>12500.0</td>\n",
              "      <td>1</td>\n",
              "      <td>11470</td>\n",
              "      <td>819.0</td>\n",
              "      <td>2</td>\n",
              "    </tr>\n",
              "    <tr>\n",
              "      <th>62629</th>\n",
              "      <td>818</td>\n",
              "      <td>11</td>\n",
              "      <td>132000</td>\n",
              "      <td>765</td>\n",
              "      <td>0.0</td>\n",
              "      <td>0.0</td>\n",
              "      <td>108000.0</td>\n",
              "      <td>17500.0</td>\n",
              "      <td>6250.0</td>\n",
              "      <td>1</td>\n",
              "      <td>11521</td>\n",
              "      <td>819.0</td>\n",
              "      <td>2</td>\n",
              "    </tr>\n",
              "    <tr>\n",
              "      <th>62630</th>\n",
              "      <td>818</td>\n",
              "      <td>12</td>\n",
              "      <td>250000</td>\n",
              "      <td>858</td>\n",
              "      <td>7.0</td>\n",
              "      <td>7.0</td>\n",
              "      <td>180000.0</td>\n",
              "      <td>25000.0</td>\n",
              "      <td>45000.0</td>\n",
              "      <td>1</td>\n",
              "      <td>11527</td>\n",
              "      <td>819.0</td>\n",
              "      <td>2</td>\n",
              "    </tr>\n",
              "    <tr>\n",
              "      <th>62631</th>\n",
              "      <td>461</td>\n",
              "      <td>12</td>\n",
              "      <td>421000</td>\n",
              "      <td>561</td>\n",
              "      <td>13.0</td>\n",
              "      <td>3.0</td>\n",
              "      <td>193000.0</td>\n",
              "      <td>200000.0</td>\n",
              "      <td>28950.0</td>\n",
              "      <td>1</td>\n",
              "      <td>7300</td>\n",
              "      <td>807.0</td>\n",
              "      <td>2</td>\n",
              "    </tr>\n",
              "    <tr>\n",
              "      <th>62632</th>\n",
              "      <td>990</td>\n",
              "      <td>11</td>\n",
              "      <td>185000</td>\n",
              "      <td>816</td>\n",
              "      <td>8.0</td>\n",
              "      <td>8.0</td>\n",
              "      <td>129000.0</td>\n",
              "      <td>40000.0</td>\n",
              "      <td>15000.0</td>\n",
              "      <td>1</td>\n",
              "      <td>7416</td>\n",
              "      <td>825.0</td>\n",
              "      <td>2</td>\n",
              "    </tr>\n",
              "    <tr>\n",
              "      <th>62633</th>\n",
              "      <td>1070</td>\n",
              "      <td>11</td>\n",
              "      <td>230000</td>\n",
              "      <td>76</td>\n",
              "      <td>5.0</td>\n",
              "      <td>1.0</td>\n",
              "      <td>153500.0</td>\n",
              "      <td>31000.0</td>\n",
              "      <td>23025.0</td>\n",
              "      <td>1</td>\n",
              "      <td>11470</td>\n",
              "      <td>819.0</td>\n",
              "      <td>2</td>\n",
              "    </tr>\n",
              "    <tr>\n",
              "      <th>62634</th>\n",
              "      <td>64</td>\n",
              "      <td>11</td>\n",
              "      <td>213000</td>\n",
              "      <td>858</td>\n",
              "      <td>6.0</td>\n",
              "      <td>4.0</td>\n",
              "      <td>147500.0</td>\n",
              "      <td>38000.0</td>\n",
              "      <td>35000.0</td>\n",
              "      <td>1</td>\n",
              "      <td>11527</td>\n",
              "      <td>819.0</td>\n",
              "      <td>2</td>\n",
              "    </tr>\n",
              "    <tr>\n",
              "      <th>62635</th>\n",
              "      <td>1397</td>\n",
              "      <td>11</td>\n",
              "      <td>170000</td>\n",
              "      <td>858</td>\n",
              "      <td>2.0</td>\n",
              "      <td>2.0</td>\n",
              "      <td>130000.0</td>\n",
              "      <td>27000.0</td>\n",
              "      <td>13000.0</td>\n",
              "      <td>1</td>\n",
              "      <td>11527</td>\n",
              "      <td>819.0</td>\n",
              "      <td>2</td>\n",
              "    </tr>\n",
              "    <tr>\n",
              "      <th>62636</th>\n",
              "      <td>1459</td>\n",
              "      <td>7</td>\n",
              "      <td>172000</td>\n",
              "      <td>823</td>\n",
              "      <td>4.0</td>\n",
              "      <td>2.0</td>\n",
              "      <td>142000.0</td>\n",
              "      <td>15000.0</td>\n",
              "      <td>14200.0</td>\n",
              "      <td>1</td>\n",
              "      <td>7422</td>\n",
              "      <td>807.0</td>\n",
              "      <td>2</td>\n",
              "    </tr>\n",
              "    <tr>\n",
              "      <th>62637</th>\n",
              "      <td>556</td>\n",
              "      <td>11</td>\n",
              "      <td>327000</td>\n",
              "      <td>858</td>\n",
              "      <td>10.0</td>\n",
              "      <td>1.0</td>\n",
              "      <td>155000.0</td>\n",
              "      <td>150000.0</td>\n",
              "      <td>22000.0</td>\n",
              "      <td>1</td>\n",
              "      <td>11527</td>\n",
              "      <td>819.0</td>\n",
              "      <td>2</td>\n",
              "    </tr>\n",
              "    <tr>\n",
              "      <th>62638</th>\n",
              "      <td>818</td>\n",
              "      <td>11</td>\n",
              "      <td>237000</td>\n",
              "      <td>765</td>\n",
              "      <td>2.0</td>\n",
              "      <td>2.0</td>\n",
              "      <td>146900.0</td>\n",
              "      <td>73200.0</td>\n",
              "      <td>16000.0</td>\n",
              "      <td>1</td>\n",
              "      <td>11521</td>\n",
              "      <td>819.0</td>\n",
              "      <td>2</td>\n",
              "    </tr>\n",
              "    <tr>\n",
              "      <th>62639</th>\n",
              "      <td>753</td>\n",
              "      <td>11</td>\n",
              "      <td>220000</td>\n",
              "      <td>858</td>\n",
              "      <td>14.0</td>\n",
              "      <td>12.0</td>\n",
              "      <td>157000.0</td>\n",
              "      <td>25000.0</td>\n",
              "      <td>20000.0</td>\n",
              "      <td>1</td>\n",
              "      <td>11527</td>\n",
              "      <td>819.0</td>\n",
              "      <td>2</td>\n",
              "    </tr>\n",
              "    <tr>\n",
              "      <th>62640</th>\n",
              "      <td>1070</td>\n",
              "      <td>11</td>\n",
              "      <td>280000</td>\n",
              "      <td>822</td>\n",
              "      <td>8.0</td>\n",
              "      <td>4.0</td>\n",
              "      <td>194688.0</td>\n",
              "      <td>57000.0</td>\n",
              "      <td>29000.0</td>\n",
              "      <td>1</td>\n",
              "      <td>7419</td>\n",
              "      <td>807.0</td>\n",
              "      <td>2</td>\n",
              "    </tr>\n",
              "    <tr>\n",
              "      <th>62641</th>\n",
              "      <td>1405</td>\n",
              "      <td>11</td>\n",
              "      <td>200000</td>\n",
              "      <td>908</td>\n",
              "      <td>0.0</td>\n",
              "      <td>0.0</td>\n",
              "      <td>155000.0</td>\n",
              "      <td>27000.0</td>\n",
              "      <td>19000.0</td>\n",
              "      <td>1</td>\n",
              "      <td>7472</td>\n",
              "      <td>807.0</td>\n",
              "      <td>2</td>\n",
              "    </tr>\n",
              "  </tbody>\n",
              "</table>\n",
              "</div>\n",
              "      <button class=\"colab-df-convert\" onclick=\"convertToInteractive('df-522530a1-6743-4742-8d37-e8165ded4585')\"\n",
              "              title=\"Convert this dataframe to an interactive table.\"\n",
              "              style=\"display:none;\">\n",
              "        \n",
              "  <svg xmlns=\"http://www.w3.org/2000/svg\" height=\"24px\"viewBox=\"0 0 24 24\"\n",
              "       width=\"24px\">\n",
              "    <path d=\"M0 0h24v24H0V0z\" fill=\"none\"/>\n",
              "    <path d=\"M18.56 5.44l.94 2.06.94-2.06 2.06-.94-2.06-.94-.94-2.06-.94 2.06-2.06.94zm-11 1L8.5 8.5l.94-2.06 2.06-.94-2.06-.94L8.5 2.5l-.94 2.06-2.06.94zm10 10l.94 2.06.94-2.06 2.06-.94-2.06-.94-.94-2.06-.94 2.06-2.06.94z\"/><path d=\"M17.41 7.96l-1.37-1.37c-.4-.4-.92-.59-1.43-.59-.52 0-1.04.2-1.43.59L10.3 9.45l-7.72 7.72c-.78.78-.78 2.05 0 2.83L4 21.41c.39.39.9.59 1.41.59.51 0 1.02-.2 1.41-.59l7.78-7.78 2.81-2.81c.8-.78.8-2.07 0-2.86zM5.41 20L4 18.59l7.72-7.72 1.47 1.35L5.41 20z\"/>\n",
              "  </svg>\n",
              "      </button>\n",
              "      \n",
              "  <style>\n",
              "    .colab-df-container {\n",
              "      display:flex;\n",
              "      flex-wrap:wrap;\n",
              "      gap: 12px;\n",
              "    }\n",
              "\n",
              "    .colab-df-convert {\n",
              "      background-color: #E8F0FE;\n",
              "      border: none;\n",
              "      border-radius: 50%;\n",
              "      cursor: pointer;\n",
              "      display: none;\n",
              "      fill: #1967D2;\n",
              "      height: 32px;\n",
              "      padding: 0 0 0 0;\n",
              "      width: 32px;\n",
              "    }\n",
              "\n",
              "    .colab-df-convert:hover {\n",
              "      background-color: #E2EBFA;\n",
              "      box-shadow: 0px 1px 2px rgba(60, 64, 67, 0.3), 0px 1px 3px 1px rgba(60, 64, 67, 0.15);\n",
              "      fill: #174EA6;\n",
              "    }\n",
              "\n",
              "    [theme=dark] .colab-df-convert {\n",
              "      background-color: #3B4455;\n",
              "      fill: #D2E3FC;\n",
              "    }\n",
              "\n",
              "    [theme=dark] .colab-df-convert:hover {\n",
              "      background-color: #434B5C;\n",
              "      box-shadow: 0px 1px 3px 1px rgba(0, 0, 0, 0.15);\n",
              "      filter: drop-shadow(0px 1px 2px rgba(0, 0, 0, 0.3));\n",
              "      fill: #FFFFFF;\n",
              "    }\n",
              "  </style>\n",
              "\n",
              "      <script>\n",
              "        const buttonEl =\n",
              "          document.querySelector('#df-522530a1-6743-4742-8d37-e8165ded4585 button.colab-df-convert');\n",
              "        buttonEl.style.display =\n",
              "          google.colab.kernel.accessAllowed ? 'block' : 'none';\n",
              "\n",
              "        async function convertToInteractive(key) {\n",
              "          const element = document.querySelector('#df-522530a1-6743-4742-8d37-e8165ded4585');\n",
              "          const dataTable =\n",
              "            await google.colab.kernel.invokeFunction('convertToInteractive',\n",
              "                                                     [key], {});\n",
              "          if (!dataTable) return;\n",
              "\n",
              "          const docLinkHtml = 'Like what you see? Visit the ' +\n",
              "            '<a target=\"_blank\" href=https://colab.research.google.com/notebooks/data_table.ipynb>data table notebook</a>'\n",
              "            + ' to learn more about interactive tables.';\n",
              "          element.innerHTML = '';\n",
              "          dataTable['output_type'] = 'display_data';\n",
              "          await google.colab.output.renderOutput(dataTable, element);\n",
              "          const docLink = document.createElement('div');\n",
              "          docLink.innerHTML = docLinkHtml;\n",
              "          element.appendChild(docLink);\n",
              "        }\n",
              "      </script>\n",
              "    </div>\n",
              "  </div>\n",
              "  "
            ]
          },
          "metadata": {},
          "execution_count": 843
        }
      ]
    },
    {
      "cell_type": "code",
      "source": [
        "df.info()"
      ],
      "metadata": {
        "id": "r9nRPHSq9ivW",
        "colab": {
          "base_uri": "https://localhost:8080/"
        },
        "outputId": "e69bb6c7-93ac-4371-f954-966ff8172a98"
      },
      "execution_count": 813,
      "outputs": [
        {
          "output_type": "stream",
          "name": "stdout",
          "text": [
            "<class 'pandas.core.frame.DataFrame'>\n",
            "RangeIndex: 7000 entries, 0 to 6999\n",
            "Data columns (total 29 columns):\n",
            " #   Column                   Non-Null Count  Dtype  \n",
            "---  ------                   --------------  -----  \n",
            " 0   timestamp                7000 non-null   object \n",
            " 1   company                  6999 non-null   object \n",
            " 2   level                    6996 non-null   object \n",
            " 3   title                    7000 non-null   object \n",
            " 4   totalyearlycompensation  7000 non-null   int64  \n",
            " 5   location                 7000 non-null   object \n",
            " 6   yearsofexperience        7000 non-null   float64\n",
            " 7   yearsatcompany           7000 non-null   float64\n",
            " 8   tag                      6546 non-null   object \n",
            " 9   basesalary               7000 non-null   float64\n",
            " 10  stockgrantvalue          7000 non-null   float64\n",
            " 11  bonus                    7000 non-null   int64  \n",
            " 12  gender                   4040 non-null   object \n",
            " 13  otherdetails             354 non-null    object \n",
            " 14  cityid                   7000 non-null   int64  \n",
            " 15  dmaid                    7000 non-null   int64  \n",
            " 16  rowNumber                7000 non-null   int64  \n",
            " 17  Masters_Degree           7000 non-null   int64  \n",
            " 18  Bachelors_Degree         7000 non-null   int64  \n",
            " 19  Doctorate_Degree         7000 non-null   int64  \n",
            " 20  Highschool               7000 non-null   int64  \n",
            " 21  Some_College             7000 non-null   int64  \n",
            " 22  Race_Asian               7000 non-null   int64  \n",
            " 23  Race_White               7000 non-null   int64  \n",
            " 24  Race_Two_Or_More         7000 non-null   int64  \n",
            " 25  Race_Black               7000 non-null   int64  \n",
            " 26  Race_Hispanic            7000 non-null   int64  \n",
            " 27  Race                     1 non-null      object \n",
            " 28  Education                6 non-null      object \n",
            "dtypes: float64(4), int64(15), object(10)\n",
            "memory usage: 1.5+ MB\n"
          ]
        }
      ]
    },
    {
      "cell_type": "code",
      "source": [
        "df.describe()"
      ],
      "metadata": {
        "colab": {
          "base_uri": "https://localhost:8080/",
          "height": 364
        },
        "id": "qcrwY6_jfhi6",
        "outputId": "4fbf145c-86c4-4365-f3de-21f6c40032e4"
      },
      "execution_count": 814,
      "outputs": [
        {
          "output_type": "execute_result",
          "data": {
            "text/plain": [
              "       totalyearlycompensation  yearsofexperience  yearsatcompany  \\\n",
              "count             7.000000e+03        7000.000000     7000.000000   \n",
              "mean              2.454068e+05           7.357476        2.914426   \n",
              "std               1.305372e+05           5.771663        3.302426   \n",
              "min               1.000000e+04           0.000000        0.000000   \n",
              "25%               1.610000e+05           3.000000        1.000000   \n",
              "50%               2.100000e+05           6.000000        2.000000   \n",
              "75%               3.000000e+05          10.000000        4.000000   \n",
              "max               1.800000e+06          38.000000       30.000000   \n",
              "\n",
              "          basesalary  stockgrantvalue           bonus        cityid  \\\n",
              "count    7000.000000      7000.000000     7000.000000   7000.000000   \n",
              "mean   119086.121429     55319.521429    18866.624286   9253.194286   \n",
              "std     75629.141125     84800.238308    29533.233934   4125.306402   \n",
              "min         0.000000         0.000000        0.000000   1153.000000   \n",
              "25%     90000.000000         0.000000        0.000000   7416.000000   \n",
              "50%    135000.000000     25000.000000    14000.000000   7472.000000   \n",
              "75%    165000.000000     75000.000000    25000.000000  11521.000000   \n",
              "max    655000.000000   1000000.000000  1000000.000000  47926.000000   \n",
              "\n",
              "             dmaid    rowNumber  Masters_Degree  Bachelors_Degree  \\\n",
              "count  7000.000000  7000.000000     7000.000000            7000.0   \n",
              "mean    715.446143  4849.126714        0.000143               0.0   \n",
              "std     216.543345  2615.235191        0.011952               0.0   \n",
              "min       0.000000     1.000000        0.000000               0.0   \n",
              "25%     807.000000  2656.750000        0.000000               0.0   \n",
              "50%     807.000000  4830.500000        0.000000               0.0   \n",
              "75%     819.000000  7091.250000        0.000000               0.0   \n",
              "max     862.000000  9462.000000        1.000000               0.0   \n",
              "\n",
              "       Doctorate_Degree  Highschool  Some_College  Race_Asian   Race_White  \\\n",
              "count       7000.000000      7000.0        7000.0      7000.0  7000.000000   \n",
              "mean           0.000714         0.0           0.0         0.0     0.000143   \n",
              "std            0.026718         0.0           0.0         0.0     0.011952   \n",
              "min            0.000000         0.0           0.0         0.0     0.000000   \n",
              "25%            0.000000         0.0           0.0         0.0     0.000000   \n",
              "50%            0.000000         0.0           0.0         0.0     0.000000   \n",
              "75%            0.000000         0.0           0.0         0.0     0.000000   \n",
              "max            1.000000         0.0           0.0         0.0     1.000000   \n",
              "\n",
              "       Race_Two_Or_More  Race_Black  Race_Hispanic  \n",
              "count            7000.0      7000.0         7000.0  \n",
              "mean                0.0         0.0            0.0  \n",
              "std                 0.0         0.0            0.0  \n",
              "min                 0.0         0.0            0.0  \n",
              "25%                 0.0         0.0            0.0  \n",
              "50%                 0.0         0.0            0.0  \n",
              "75%                 0.0         0.0            0.0  \n",
              "max                 0.0         0.0            0.0  "
            ],
            "text/html": [
              "\n",
              "  <div id=\"df-3be69028-5752-4be5-96a7-ccdbc92970ba\">\n",
              "    <div class=\"colab-df-container\">\n",
              "      <div>\n",
              "<style scoped>\n",
              "    .dataframe tbody tr th:only-of-type {\n",
              "        vertical-align: middle;\n",
              "    }\n",
              "\n",
              "    .dataframe tbody tr th {\n",
              "        vertical-align: top;\n",
              "    }\n",
              "\n",
              "    .dataframe thead th {\n",
              "        text-align: right;\n",
              "    }\n",
              "</style>\n",
              "<table border=\"1\" class=\"dataframe\">\n",
              "  <thead>\n",
              "    <tr style=\"text-align: right;\">\n",
              "      <th></th>\n",
              "      <th>totalyearlycompensation</th>\n",
              "      <th>yearsofexperience</th>\n",
              "      <th>yearsatcompany</th>\n",
              "      <th>basesalary</th>\n",
              "      <th>stockgrantvalue</th>\n",
              "      <th>bonus</th>\n",
              "      <th>cityid</th>\n",
              "      <th>dmaid</th>\n",
              "      <th>rowNumber</th>\n",
              "      <th>Masters_Degree</th>\n",
              "      <th>Bachelors_Degree</th>\n",
              "      <th>Doctorate_Degree</th>\n",
              "      <th>Highschool</th>\n",
              "      <th>Some_College</th>\n",
              "      <th>Race_Asian</th>\n",
              "      <th>Race_White</th>\n",
              "      <th>Race_Two_Or_More</th>\n",
              "      <th>Race_Black</th>\n",
              "      <th>Race_Hispanic</th>\n",
              "    </tr>\n",
              "  </thead>\n",
              "  <tbody>\n",
              "    <tr>\n",
              "      <th>count</th>\n",
              "      <td>7.000000e+03</td>\n",
              "      <td>7000.000000</td>\n",
              "      <td>7000.000000</td>\n",
              "      <td>7000.000000</td>\n",
              "      <td>7000.000000</td>\n",
              "      <td>7000.000000</td>\n",
              "      <td>7000.000000</td>\n",
              "      <td>7000.000000</td>\n",
              "      <td>7000.000000</td>\n",
              "      <td>7000.000000</td>\n",
              "      <td>7000.0</td>\n",
              "      <td>7000.000000</td>\n",
              "      <td>7000.0</td>\n",
              "      <td>7000.0</td>\n",
              "      <td>7000.0</td>\n",
              "      <td>7000.000000</td>\n",
              "      <td>7000.0</td>\n",
              "      <td>7000.0</td>\n",
              "      <td>7000.0</td>\n",
              "    </tr>\n",
              "    <tr>\n",
              "      <th>mean</th>\n",
              "      <td>2.454068e+05</td>\n",
              "      <td>7.357476</td>\n",
              "      <td>2.914426</td>\n",
              "      <td>119086.121429</td>\n",
              "      <td>55319.521429</td>\n",
              "      <td>18866.624286</td>\n",
              "      <td>9253.194286</td>\n",
              "      <td>715.446143</td>\n",
              "      <td>4849.126714</td>\n",
              "      <td>0.000143</td>\n",
              "      <td>0.0</td>\n",
              "      <td>0.000714</td>\n",
              "      <td>0.0</td>\n",
              "      <td>0.0</td>\n",
              "      <td>0.0</td>\n",
              "      <td>0.000143</td>\n",
              "      <td>0.0</td>\n",
              "      <td>0.0</td>\n",
              "      <td>0.0</td>\n",
              "    </tr>\n",
              "    <tr>\n",
              "      <th>std</th>\n",
              "      <td>1.305372e+05</td>\n",
              "      <td>5.771663</td>\n",
              "      <td>3.302426</td>\n",
              "      <td>75629.141125</td>\n",
              "      <td>84800.238308</td>\n",
              "      <td>29533.233934</td>\n",
              "      <td>4125.306402</td>\n",
              "      <td>216.543345</td>\n",
              "      <td>2615.235191</td>\n",
              "      <td>0.011952</td>\n",
              "      <td>0.0</td>\n",
              "      <td>0.026718</td>\n",
              "      <td>0.0</td>\n",
              "      <td>0.0</td>\n",
              "      <td>0.0</td>\n",
              "      <td>0.011952</td>\n",
              "      <td>0.0</td>\n",
              "      <td>0.0</td>\n",
              "      <td>0.0</td>\n",
              "    </tr>\n",
              "    <tr>\n",
              "      <th>min</th>\n",
              "      <td>1.000000e+04</td>\n",
              "      <td>0.000000</td>\n",
              "      <td>0.000000</td>\n",
              "      <td>0.000000</td>\n",
              "      <td>0.000000</td>\n",
              "      <td>0.000000</td>\n",
              "      <td>1153.000000</td>\n",
              "      <td>0.000000</td>\n",
              "      <td>1.000000</td>\n",
              "      <td>0.000000</td>\n",
              "      <td>0.0</td>\n",
              "      <td>0.000000</td>\n",
              "      <td>0.0</td>\n",
              "      <td>0.0</td>\n",
              "      <td>0.0</td>\n",
              "      <td>0.000000</td>\n",
              "      <td>0.0</td>\n",
              "      <td>0.0</td>\n",
              "      <td>0.0</td>\n",
              "    </tr>\n",
              "    <tr>\n",
              "      <th>25%</th>\n",
              "      <td>1.610000e+05</td>\n",
              "      <td>3.000000</td>\n",
              "      <td>1.000000</td>\n",
              "      <td>90000.000000</td>\n",
              "      <td>0.000000</td>\n",
              "      <td>0.000000</td>\n",
              "      <td>7416.000000</td>\n",
              "      <td>807.000000</td>\n",
              "      <td>2656.750000</td>\n",
              "      <td>0.000000</td>\n",
              "      <td>0.0</td>\n",
              "      <td>0.000000</td>\n",
              "      <td>0.0</td>\n",
              "      <td>0.0</td>\n",
              "      <td>0.0</td>\n",
              "      <td>0.000000</td>\n",
              "      <td>0.0</td>\n",
              "      <td>0.0</td>\n",
              "      <td>0.0</td>\n",
              "    </tr>\n",
              "    <tr>\n",
              "      <th>50%</th>\n",
              "      <td>2.100000e+05</td>\n",
              "      <td>6.000000</td>\n",
              "      <td>2.000000</td>\n",
              "      <td>135000.000000</td>\n",
              "      <td>25000.000000</td>\n",
              "      <td>14000.000000</td>\n",
              "      <td>7472.000000</td>\n",
              "      <td>807.000000</td>\n",
              "      <td>4830.500000</td>\n",
              "      <td>0.000000</td>\n",
              "      <td>0.0</td>\n",
              "      <td>0.000000</td>\n",
              "      <td>0.0</td>\n",
              "      <td>0.0</td>\n",
              "      <td>0.0</td>\n",
              "      <td>0.000000</td>\n",
              "      <td>0.0</td>\n",
              "      <td>0.0</td>\n",
              "      <td>0.0</td>\n",
              "    </tr>\n",
              "    <tr>\n",
              "      <th>75%</th>\n",
              "      <td>3.000000e+05</td>\n",
              "      <td>10.000000</td>\n",
              "      <td>4.000000</td>\n",
              "      <td>165000.000000</td>\n",
              "      <td>75000.000000</td>\n",
              "      <td>25000.000000</td>\n",
              "      <td>11521.000000</td>\n",
              "      <td>819.000000</td>\n",
              "      <td>7091.250000</td>\n",
              "      <td>0.000000</td>\n",
              "      <td>0.0</td>\n",
              "      <td>0.000000</td>\n",
              "      <td>0.0</td>\n",
              "      <td>0.0</td>\n",
              "      <td>0.0</td>\n",
              "      <td>0.000000</td>\n",
              "      <td>0.0</td>\n",
              "      <td>0.0</td>\n",
              "      <td>0.0</td>\n",
              "    </tr>\n",
              "    <tr>\n",
              "      <th>max</th>\n",
              "      <td>1.800000e+06</td>\n",
              "      <td>38.000000</td>\n",
              "      <td>30.000000</td>\n",
              "      <td>655000.000000</td>\n",
              "      <td>1000000.000000</td>\n",
              "      <td>1000000.000000</td>\n",
              "      <td>47926.000000</td>\n",
              "      <td>862.000000</td>\n",
              "      <td>9462.000000</td>\n",
              "      <td>1.000000</td>\n",
              "      <td>0.0</td>\n",
              "      <td>1.000000</td>\n",
              "      <td>0.0</td>\n",
              "      <td>0.0</td>\n",
              "      <td>0.0</td>\n",
              "      <td>1.000000</td>\n",
              "      <td>0.0</td>\n",
              "      <td>0.0</td>\n",
              "      <td>0.0</td>\n",
              "    </tr>\n",
              "  </tbody>\n",
              "</table>\n",
              "</div>\n",
              "      <button class=\"colab-df-convert\" onclick=\"convertToInteractive('df-3be69028-5752-4be5-96a7-ccdbc92970ba')\"\n",
              "              title=\"Convert this dataframe to an interactive table.\"\n",
              "              style=\"display:none;\">\n",
              "        \n",
              "  <svg xmlns=\"http://www.w3.org/2000/svg\" height=\"24px\"viewBox=\"0 0 24 24\"\n",
              "       width=\"24px\">\n",
              "    <path d=\"M0 0h24v24H0V0z\" fill=\"none\"/>\n",
              "    <path d=\"M18.56 5.44l.94 2.06.94-2.06 2.06-.94-2.06-.94-.94-2.06-.94 2.06-2.06.94zm-11 1L8.5 8.5l.94-2.06 2.06-.94-2.06-.94L8.5 2.5l-.94 2.06-2.06.94zm10 10l.94 2.06.94-2.06 2.06-.94-2.06-.94-.94-2.06-.94 2.06-2.06.94z\"/><path d=\"M17.41 7.96l-1.37-1.37c-.4-.4-.92-.59-1.43-.59-.52 0-1.04.2-1.43.59L10.3 9.45l-7.72 7.72c-.78.78-.78 2.05 0 2.83L4 21.41c.39.39.9.59 1.41.59.51 0 1.02-.2 1.41-.59l7.78-7.78 2.81-2.81c.8-.78.8-2.07 0-2.86zM5.41 20L4 18.59l7.72-7.72 1.47 1.35L5.41 20z\"/>\n",
              "  </svg>\n",
              "      </button>\n",
              "      \n",
              "  <style>\n",
              "    .colab-df-container {\n",
              "      display:flex;\n",
              "      flex-wrap:wrap;\n",
              "      gap: 12px;\n",
              "    }\n",
              "\n",
              "    .colab-df-convert {\n",
              "      background-color: #E8F0FE;\n",
              "      border: none;\n",
              "      border-radius: 50%;\n",
              "      cursor: pointer;\n",
              "      display: none;\n",
              "      fill: #1967D2;\n",
              "      height: 32px;\n",
              "      padding: 0 0 0 0;\n",
              "      width: 32px;\n",
              "    }\n",
              "\n",
              "    .colab-df-convert:hover {\n",
              "      background-color: #E2EBFA;\n",
              "      box-shadow: 0px 1px 2px rgba(60, 64, 67, 0.3), 0px 1px 3px 1px rgba(60, 64, 67, 0.15);\n",
              "      fill: #174EA6;\n",
              "    }\n",
              "\n",
              "    [theme=dark] .colab-df-convert {\n",
              "      background-color: #3B4455;\n",
              "      fill: #D2E3FC;\n",
              "    }\n",
              "\n",
              "    [theme=dark] .colab-df-convert:hover {\n",
              "      background-color: #434B5C;\n",
              "      box-shadow: 0px 1px 3px 1px rgba(0, 0, 0, 0.15);\n",
              "      filter: drop-shadow(0px 1px 2px rgba(0, 0, 0, 0.3));\n",
              "      fill: #FFFFFF;\n",
              "    }\n",
              "  </style>\n",
              "\n",
              "      <script>\n",
              "        const buttonEl =\n",
              "          document.querySelector('#df-3be69028-5752-4be5-96a7-ccdbc92970ba button.colab-df-convert');\n",
              "        buttonEl.style.display =\n",
              "          google.colab.kernel.accessAllowed ? 'block' : 'none';\n",
              "\n",
              "        async function convertToInteractive(key) {\n",
              "          const element = document.querySelector('#df-3be69028-5752-4be5-96a7-ccdbc92970ba');\n",
              "          const dataTable =\n",
              "            await google.colab.kernel.invokeFunction('convertToInteractive',\n",
              "                                                     [key], {});\n",
              "          if (!dataTable) return;\n",
              "\n",
              "          const docLinkHtml = 'Like what you see? Visit the ' +\n",
              "            '<a target=\"_blank\" href=https://colab.research.google.com/notebooks/data_table.ipynb>data table notebook</a>'\n",
              "            + ' to learn more about interactive tables.';\n",
              "          element.innerHTML = '';\n",
              "          dataTable['output_type'] = 'display_data';\n",
              "          await google.colab.output.renderOutput(dataTable, element);\n",
              "          const docLink = document.createElement('div');\n",
              "          docLink.innerHTML = docLinkHtml;\n",
              "          element.appendChild(docLink);\n",
              "        }\n",
              "      </script>\n",
              "    </div>\n",
              "  </div>\n",
              "  "
            ]
          },
          "metadata": {},
          "execution_count": 814
        }
      ]
    },
    {
      "cell_type": "code",
      "source": [
        "df.isnull().sum()"
      ],
      "metadata": {
        "id": "svlJKgJD-Mpg",
        "colab": {
          "base_uri": "https://localhost:8080/"
        },
        "outputId": "840b6e17-bfa8-41ba-92ec-7ee9af9cc499"
      },
      "execution_count": 817,
      "outputs": [
        {
          "output_type": "execute_result",
          "data": {
            "text/plain": [
              "timestamp                      0\n",
              "company                        5\n",
              "level                        119\n",
              "title                          0\n",
              "totalyearlycompensation        0\n",
              "location                       0\n",
              "yearsofexperience              0\n",
              "yearsatcompany                 0\n",
              "tag                          854\n",
              "basesalary                     0\n",
              "stockgrantvalue                0\n",
              "bonus                          0\n",
              "gender                     19540\n",
              "otherdetails               22505\n",
              "cityid                         0\n",
              "dmaid                          2\n",
              "rowNumber                      0\n",
              "Masters_Degree                 0\n",
              "Bachelors_Degree               0\n",
              "Doctorate_Degree               0\n",
              "Highschool                     0\n",
              "Some_College                   0\n",
              "Race_Asian                     0\n",
              "Race_White                     0\n",
              "Race_Two_Or_More               0\n",
              "Race_Black                     0\n",
              "Race_Hispanic                  0\n",
              "Race                       40215\n",
              "Education                  32272\n",
              "dtype: int64"
            ]
          },
          "metadata": {},
          "execution_count": 817
        }
      ]
    },
    {
      "cell_type": "code",
      "source": [
        "df=df.drop([\"Race\",\"otherdetails\",\"tag\"],axis=1)"
      ],
      "metadata": {
        "id": "-7MSUnRB-PS3"
      },
      "execution_count": 823,
      "outputs": []
    },
    {
      "cell_type": "code",
      "source": [
        "df.shape"
      ],
      "metadata": {
        "colab": {
          "base_uri": "https://localhost:8080/"
        },
        "id": "xdcPFtPa-evL",
        "outputId": "5e0f7039-2b88-4f43-c065-7a530ad49901"
      },
      "execution_count": 824,
      "outputs": [
        {
          "output_type": "execute_result",
          "data": {
            "text/plain": [
              "(62642, 26)"
            ]
          },
          "metadata": {},
          "execution_count": 824
        }
      ]
    },
    {
      "cell_type": "code",
      "source": [
        "df.isnull().sum()"
      ],
      "metadata": {
        "id": "Dx6Gs4sM-hNT",
        "colab": {
          "base_uri": "https://localhost:8080/"
        },
        "outputId": "57d4790c-f68d-4fca-9303-fc23dba5ff0b"
      },
      "execution_count": 825,
      "outputs": [
        {
          "output_type": "execute_result",
          "data": {
            "text/plain": [
              "timestamp                    0\n",
              "company                      5\n",
              "level                      119\n",
              "title                        0\n",
              "totalyearlycompensation      0\n",
              "location                     0\n",
              "yearsofexperience            0\n",
              "yearsatcompany               0\n",
              "basesalary                   0\n",
              "stockgrantvalue              0\n",
              "bonus                        0\n",
              "gender                       0\n",
              "cityid                       0\n",
              "dmaid                        2\n",
              "rowNumber                    0\n",
              "Masters_Degree               0\n",
              "Bachelors_Degree             0\n",
              "Doctorate_Degree             0\n",
              "Highschool                   0\n",
              "Some_College                 0\n",
              "Race_Asian                   0\n",
              "Race_White                   0\n",
              "Race_Two_Or_More             0\n",
              "Race_Black                   0\n",
              "Race_Hispanic                0\n",
              "Education                    0\n",
              "dtype: int64"
            ]
          },
          "metadata": {},
          "execution_count": 825
        }
      ]
    },
    {
      "cell_type": "code",
      "source": [
        "# Impute \"categorical null values\" with Mode value\n",
        "df['gender'].fillna(df['gender'].mode()[0], inplace=True)\n",
        "df['Education'].fillna(df['Education'].mode()[0], inplace=True)"
      ],
      "metadata": {
        "id": "SiTG9kiJDfpr"
      },
      "execution_count": 821,
      "outputs": []
    },
    {
      "cell_type": "code",
      "source": [
        "Data_dict = pd.DataFrame(df.dtypes)\n",
        "Data_dict"
      ],
      "metadata": {
        "id": "pr-wwVVsDy8b",
        "colab": {
          "base_uri": "https://localhost:8080/",
          "height": 457
        },
        "outputId": "0a461981-ceaa-4942-fe54-70bb697b002a"
      },
      "execution_count": 844,
      "outputs": [
        {
          "output_type": "execute_result",
          "data": {
            "text/plain": [
              "                               0\n",
              "company                    int64\n",
              "title                      int64\n",
              "totalyearlycompensation    int64\n",
              "location                   int64\n",
              "yearsofexperience        float64\n",
              "yearsatcompany           float64\n",
              "basesalary               float64\n",
              "stockgrantvalue          float64\n",
              "bonus                    float64\n",
              "gender                     int64\n",
              "cityid                     int64\n",
              "dmaid                     object\n",
              "Education                  int64"
            ],
            "text/html": [
              "\n",
              "  <div id=\"df-2fbd1630-0096-4087-b27d-501dea6f3ccf\">\n",
              "    <div class=\"colab-df-container\">\n",
              "      <div>\n",
              "<style scoped>\n",
              "    .dataframe tbody tr th:only-of-type {\n",
              "        vertical-align: middle;\n",
              "    }\n",
              "\n",
              "    .dataframe tbody tr th {\n",
              "        vertical-align: top;\n",
              "    }\n",
              "\n",
              "    .dataframe thead th {\n",
              "        text-align: right;\n",
              "    }\n",
              "</style>\n",
              "<table border=\"1\" class=\"dataframe\">\n",
              "  <thead>\n",
              "    <tr style=\"text-align: right;\">\n",
              "      <th></th>\n",
              "      <th>0</th>\n",
              "    </tr>\n",
              "  </thead>\n",
              "  <tbody>\n",
              "    <tr>\n",
              "      <th>company</th>\n",
              "      <td>int64</td>\n",
              "    </tr>\n",
              "    <tr>\n",
              "      <th>title</th>\n",
              "      <td>int64</td>\n",
              "    </tr>\n",
              "    <tr>\n",
              "      <th>totalyearlycompensation</th>\n",
              "      <td>int64</td>\n",
              "    </tr>\n",
              "    <tr>\n",
              "      <th>location</th>\n",
              "      <td>int64</td>\n",
              "    </tr>\n",
              "    <tr>\n",
              "      <th>yearsofexperience</th>\n",
              "      <td>float64</td>\n",
              "    </tr>\n",
              "    <tr>\n",
              "      <th>yearsatcompany</th>\n",
              "      <td>float64</td>\n",
              "    </tr>\n",
              "    <tr>\n",
              "      <th>basesalary</th>\n",
              "      <td>float64</td>\n",
              "    </tr>\n",
              "    <tr>\n",
              "      <th>stockgrantvalue</th>\n",
              "      <td>float64</td>\n",
              "    </tr>\n",
              "    <tr>\n",
              "      <th>bonus</th>\n",
              "      <td>float64</td>\n",
              "    </tr>\n",
              "    <tr>\n",
              "      <th>gender</th>\n",
              "      <td>int64</td>\n",
              "    </tr>\n",
              "    <tr>\n",
              "      <th>cityid</th>\n",
              "      <td>int64</td>\n",
              "    </tr>\n",
              "    <tr>\n",
              "      <th>dmaid</th>\n",
              "      <td>object</td>\n",
              "    </tr>\n",
              "    <tr>\n",
              "      <th>Education</th>\n",
              "      <td>int64</td>\n",
              "    </tr>\n",
              "  </tbody>\n",
              "</table>\n",
              "</div>\n",
              "      <button class=\"colab-df-convert\" onclick=\"convertToInteractive('df-2fbd1630-0096-4087-b27d-501dea6f3ccf')\"\n",
              "              title=\"Convert this dataframe to an interactive table.\"\n",
              "              style=\"display:none;\">\n",
              "        \n",
              "  <svg xmlns=\"http://www.w3.org/2000/svg\" height=\"24px\"viewBox=\"0 0 24 24\"\n",
              "       width=\"24px\">\n",
              "    <path d=\"M0 0h24v24H0V0z\" fill=\"none\"/>\n",
              "    <path d=\"M18.56 5.44l.94 2.06.94-2.06 2.06-.94-2.06-.94-.94-2.06-.94 2.06-2.06.94zm-11 1L8.5 8.5l.94-2.06 2.06-.94-2.06-.94L8.5 2.5l-.94 2.06-2.06.94zm10 10l.94 2.06.94-2.06 2.06-.94-2.06-.94-.94-2.06-.94 2.06-2.06.94z\"/><path d=\"M17.41 7.96l-1.37-1.37c-.4-.4-.92-.59-1.43-.59-.52 0-1.04.2-1.43.59L10.3 9.45l-7.72 7.72c-.78.78-.78 2.05 0 2.83L4 21.41c.39.39.9.59 1.41.59.51 0 1.02-.2 1.41-.59l7.78-7.78 2.81-2.81c.8-.78.8-2.07 0-2.86zM5.41 20L4 18.59l7.72-7.72 1.47 1.35L5.41 20z\"/>\n",
              "  </svg>\n",
              "      </button>\n",
              "      \n",
              "  <style>\n",
              "    .colab-df-container {\n",
              "      display:flex;\n",
              "      flex-wrap:wrap;\n",
              "      gap: 12px;\n",
              "    }\n",
              "\n",
              "    .colab-df-convert {\n",
              "      background-color: #E8F0FE;\n",
              "      border: none;\n",
              "      border-radius: 50%;\n",
              "      cursor: pointer;\n",
              "      display: none;\n",
              "      fill: #1967D2;\n",
              "      height: 32px;\n",
              "      padding: 0 0 0 0;\n",
              "      width: 32px;\n",
              "    }\n",
              "\n",
              "    .colab-df-convert:hover {\n",
              "      background-color: #E2EBFA;\n",
              "      box-shadow: 0px 1px 2px rgba(60, 64, 67, 0.3), 0px 1px 3px 1px rgba(60, 64, 67, 0.15);\n",
              "      fill: #174EA6;\n",
              "    }\n",
              "\n",
              "    [theme=dark] .colab-df-convert {\n",
              "      background-color: #3B4455;\n",
              "      fill: #D2E3FC;\n",
              "    }\n",
              "\n",
              "    [theme=dark] .colab-df-convert:hover {\n",
              "      background-color: #434B5C;\n",
              "      box-shadow: 0px 1px 3px 1px rgba(0, 0, 0, 0.15);\n",
              "      filter: drop-shadow(0px 1px 2px rgba(0, 0, 0, 0.3));\n",
              "      fill: #FFFFFF;\n",
              "    }\n",
              "  </style>\n",
              "\n",
              "      <script>\n",
              "        const buttonEl =\n",
              "          document.querySelector('#df-2fbd1630-0096-4087-b27d-501dea6f3ccf button.colab-df-convert');\n",
              "        buttonEl.style.display =\n",
              "          google.colab.kernel.accessAllowed ? 'block' : 'none';\n",
              "\n",
              "        async function convertToInteractive(key) {\n",
              "          const element = document.querySelector('#df-2fbd1630-0096-4087-b27d-501dea6f3ccf');\n",
              "          const dataTable =\n",
              "            await google.colab.kernel.invokeFunction('convertToInteractive',\n",
              "                                                     [key], {});\n",
              "          if (!dataTable) return;\n",
              "\n",
              "          const docLinkHtml = 'Like what you see? Visit the ' +\n",
              "            '<a target=\"_blank\" href=https://colab.research.google.com/notebooks/data_table.ipynb>data table notebook</a>'\n",
              "            + ' to learn more about interactive tables.';\n",
              "          element.innerHTML = '';\n",
              "          dataTable['output_type'] = 'display_data';\n",
              "          await google.colab.output.renderOutput(dataTable, element);\n",
              "          const docLink = document.createElement('div');\n",
              "          docLink.innerHTML = docLinkHtml;\n",
              "          element.appendChild(docLink);\n",
              "        }\n",
              "      </script>\n",
              "    </div>\n",
              "  </div>\n",
              "  "
            ]
          },
          "metadata": {},
          "execution_count": 844
        }
      ]
    },
    {
      "cell_type": "code",
      "source": [
        "Data_dict['MissingVal'] = df.isnull().sum()\n",
        "Data_dict"
      ],
      "metadata": {
        "id": "qEGwjP_jDrsQ",
        "colab": {
          "base_uri": "https://localhost:8080/",
          "height": 864
        },
        "outputId": "bc20e92b-4abf-4b80-c04a-188c0fa6bdd7"
      },
      "execution_count": 827,
      "outputs": [
        {
          "output_type": "execute_result",
          "data": {
            "text/plain": [
              "                               0  MissingVal\n",
              "timestamp                 object           0\n",
              "company                   object           5\n",
              "level                     object         119\n",
              "title                     object           0\n",
              "totalyearlycompensation    int64           0\n",
              "location                  object           0\n",
              "yearsofexperience        float64           0\n",
              "yearsatcompany           float64           0\n",
              "basesalary               float64           0\n",
              "stockgrantvalue          float64           0\n",
              "bonus                    float64           0\n",
              "gender                    object           0\n",
              "cityid                     int64           0\n",
              "dmaid                    float64           2\n",
              "rowNumber                  int64           0\n",
              "Masters_Degree             int64           0\n",
              "Bachelors_Degree           int64           0\n",
              "Doctorate_Degree           int64           0\n",
              "Highschool                 int64           0\n",
              "Some_College               int64           0\n",
              "Race_Asian                 int64           0\n",
              "Race_White                 int64           0\n",
              "Race_Two_Or_More           int64           0\n",
              "Race_Black                 int64           0\n",
              "Race_Hispanic              int64           0\n",
              "Education                 object           0"
            ],
            "text/html": [
              "\n",
              "  <div id=\"df-779fbfea-1bb2-4da1-bfda-999e441039f8\">\n",
              "    <div class=\"colab-df-container\">\n",
              "      <div>\n",
              "<style scoped>\n",
              "    .dataframe tbody tr th:only-of-type {\n",
              "        vertical-align: middle;\n",
              "    }\n",
              "\n",
              "    .dataframe tbody tr th {\n",
              "        vertical-align: top;\n",
              "    }\n",
              "\n",
              "    .dataframe thead th {\n",
              "        text-align: right;\n",
              "    }\n",
              "</style>\n",
              "<table border=\"1\" class=\"dataframe\">\n",
              "  <thead>\n",
              "    <tr style=\"text-align: right;\">\n",
              "      <th></th>\n",
              "      <th>0</th>\n",
              "      <th>MissingVal</th>\n",
              "    </tr>\n",
              "  </thead>\n",
              "  <tbody>\n",
              "    <tr>\n",
              "      <th>timestamp</th>\n",
              "      <td>object</td>\n",
              "      <td>0</td>\n",
              "    </tr>\n",
              "    <tr>\n",
              "      <th>company</th>\n",
              "      <td>object</td>\n",
              "      <td>5</td>\n",
              "    </tr>\n",
              "    <tr>\n",
              "      <th>level</th>\n",
              "      <td>object</td>\n",
              "      <td>119</td>\n",
              "    </tr>\n",
              "    <tr>\n",
              "      <th>title</th>\n",
              "      <td>object</td>\n",
              "      <td>0</td>\n",
              "    </tr>\n",
              "    <tr>\n",
              "      <th>totalyearlycompensation</th>\n",
              "      <td>int64</td>\n",
              "      <td>0</td>\n",
              "    </tr>\n",
              "    <tr>\n",
              "      <th>location</th>\n",
              "      <td>object</td>\n",
              "      <td>0</td>\n",
              "    </tr>\n",
              "    <tr>\n",
              "      <th>yearsofexperience</th>\n",
              "      <td>float64</td>\n",
              "      <td>0</td>\n",
              "    </tr>\n",
              "    <tr>\n",
              "      <th>yearsatcompany</th>\n",
              "      <td>float64</td>\n",
              "      <td>0</td>\n",
              "    </tr>\n",
              "    <tr>\n",
              "      <th>basesalary</th>\n",
              "      <td>float64</td>\n",
              "      <td>0</td>\n",
              "    </tr>\n",
              "    <tr>\n",
              "      <th>stockgrantvalue</th>\n",
              "      <td>float64</td>\n",
              "      <td>0</td>\n",
              "    </tr>\n",
              "    <tr>\n",
              "      <th>bonus</th>\n",
              "      <td>float64</td>\n",
              "      <td>0</td>\n",
              "    </tr>\n",
              "    <tr>\n",
              "      <th>gender</th>\n",
              "      <td>object</td>\n",
              "      <td>0</td>\n",
              "    </tr>\n",
              "    <tr>\n",
              "      <th>cityid</th>\n",
              "      <td>int64</td>\n",
              "      <td>0</td>\n",
              "    </tr>\n",
              "    <tr>\n",
              "      <th>dmaid</th>\n",
              "      <td>float64</td>\n",
              "      <td>2</td>\n",
              "    </tr>\n",
              "    <tr>\n",
              "      <th>rowNumber</th>\n",
              "      <td>int64</td>\n",
              "      <td>0</td>\n",
              "    </tr>\n",
              "    <tr>\n",
              "      <th>Masters_Degree</th>\n",
              "      <td>int64</td>\n",
              "      <td>0</td>\n",
              "    </tr>\n",
              "    <tr>\n",
              "      <th>Bachelors_Degree</th>\n",
              "      <td>int64</td>\n",
              "      <td>0</td>\n",
              "    </tr>\n",
              "    <tr>\n",
              "      <th>Doctorate_Degree</th>\n",
              "      <td>int64</td>\n",
              "      <td>0</td>\n",
              "    </tr>\n",
              "    <tr>\n",
              "      <th>Highschool</th>\n",
              "      <td>int64</td>\n",
              "      <td>0</td>\n",
              "    </tr>\n",
              "    <tr>\n",
              "      <th>Some_College</th>\n",
              "      <td>int64</td>\n",
              "      <td>0</td>\n",
              "    </tr>\n",
              "    <tr>\n",
              "      <th>Race_Asian</th>\n",
              "      <td>int64</td>\n",
              "      <td>0</td>\n",
              "    </tr>\n",
              "    <tr>\n",
              "      <th>Race_White</th>\n",
              "      <td>int64</td>\n",
              "      <td>0</td>\n",
              "    </tr>\n",
              "    <tr>\n",
              "      <th>Race_Two_Or_More</th>\n",
              "      <td>int64</td>\n",
              "      <td>0</td>\n",
              "    </tr>\n",
              "    <tr>\n",
              "      <th>Race_Black</th>\n",
              "      <td>int64</td>\n",
              "      <td>0</td>\n",
              "    </tr>\n",
              "    <tr>\n",
              "      <th>Race_Hispanic</th>\n",
              "      <td>int64</td>\n",
              "      <td>0</td>\n",
              "    </tr>\n",
              "    <tr>\n",
              "      <th>Education</th>\n",
              "      <td>object</td>\n",
              "      <td>0</td>\n",
              "    </tr>\n",
              "  </tbody>\n",
              "</table>\n",
              "</div>\n",
              "      <button class=\"colab-df-convert\" onclick=\"convertToInteractive('df-779fbfea-1bb2-4da1-bfda-999e441039f8')\"\n",
              "              title=\"Convert this dataframe to an interactive table.\"\n",
              "              style=\"display:none;\">\n",
              "        \n",
              "  <svg xmlns=\"http://www.w3.org/2000/svg\" height=\"24px\"viewBox=\"0 0 24 24\"\n",
              "       width=\"24px\">\n",
              "    <path d=\"M0 0h24v24H0V0z\" fill=\"none\"/>\n",
              "    <path d=\"M18.56 5.44l.94 2.06.94-2.06 2.06-.94-2.06-.94-.94-2.06-.94 2.06-2.06.94zm-11 1L8.5 8.5l.94-2.06 2.06-.94-2.06-.94L8.5 2.5l-.94 2.06-2.06.94zm10 10l.94 2.06.94-2.06 2.06-.94-2.06-.94-.94-2.06-.94 2.06-2.06.94z\"/><path d=\"M17.41 7.96l-1.37-1.37c-.4-.4-.92-.59-1.43-.59-.52 0-1.04.2-1.43.59L10.3 9.45l-7.72 7.72c-.78.78-.78 2.05 0 2.83L4 21.41c.39.39.9.59 1.41.59.51 0 1.02-.2 1.41-.59l7.78-7.78 2.81-2.81c.8-.78.8-2.07 0-2.86zM5.41 20L4 18.59l7.72-7.72 1.47 1.35L5.41 20z\"/>\n",
              "  </svg>\n",
              "      </button>\n",
              "      \n",
              "  <style>\n",
              "    .colab-df-container {\n",
              "      display:flex;\n",
              "      flex-wrap:wrap;\n",
              "      gap: 12px;\n",
              "    }\n",
              "\n",
              "    .colab-df-convert {\n",
              "      background-color: #E8F0FE;\n",
              "      border: none;\n",
              "      border-radius: 50%;\n",
              "      cursor: pointer;\n",
              "      display: none;\n",
              "      fill: #1967D2;\n",
              "      height: 32px;\n",
              "      padding: 0 0 0 0;\n",
              "      width: 32px;\n",
              "    }\n",
              "\n",
              "    .colab-df-convert:hover {\n",
              "      background-color: #E2EBFA;\n",
              "      box-shadow: 0px 1px 2px rgba(60, 64, 67, 0.3), 0px 1px 3px 1px rgba(60, 64, 67, 0.15);\n",
              "      fill: #174EA6;\n",
              "    }\n",
              "\n",
              "    [theme=dark] .colab-df-convert {\n",
              "      background-color: #3B4455;\n",
              "      fill: #D2E3FC;\n",
              "    }\n",
              "\n",
              "    [theme=dark] .colab-df-convert:hover {\n",
              "      background-color: #434B5C;\n",
              "      box-shadow: 0px 1px 3px 1px rgba(0, 0, 0, 0.15);\n",
              "      filter: drop-shadow(0px 1px 2px rgba(0, 0, 0, 0.3));\n",
              "      fill: #FFFFFF;\n",
              "    }\n",
              "  </style>\n",
              "\n",
              "      <script>\n",
              "        const buttonEl =\n",
              "          document.querySelector('#df-779fbfea-1bb2-4da1-bfda-999e441039f8 button.colab-df-convert');\n",
              "        buttonEl.style.display =\n",
              "          google.colab.kernel.accessAllowed ? 'block' : 'none';\n",
              "\n",
              "        async function convertToInteractive(key) {\n",
              "          const element = document.querySelector('#df-779fbfea-1bb2-4da1-bfda-999e441039f8');\n",
              "          const dataTable =\n",
              "            await google.colab.kernel.invokeFunction('convertToInteractive',\n",
              "                                                     [key], {});\n",
              "          if (!dataTable) return;\n",
              "\n",
              "          const docLinkHtml = 'Like what you see? Visit the ' +\n",
              "            '<a target=\"_blank\" href=https://colab.research.google.com/notebooks/data_table.ipynb>data table notebook</a>'\n",
              "            + ' to learn more about interactive tables.';\n",
              "          element.innerHTML = '';\n",
              "          dataTable['output_type'] = 'display_data';\n",
              "          await google.colab.output.renderOutput(dataTable, element);\n",
              "          const docLink = document.createElement('div');\n",
              "          docLink.innerHTML = docLinkHtml;\n",
              "          element.appendChild(docLink);\n",
              "        }\n",
              "      </script>\n",
              "    </div>\n",
              "  </div>\n",
              "  "
            ]
          },
          "metadata": {},
          "execution_count": 827
        }
      ]
    },
    {
      "cell_type": "code",
      "source": [
        "\n",
        "df.fillna(\"Not_given\", inplace = True)"
      ],
      "metadata": {
        "id": "DhjhEUXNECOj"
      },
      "execution_count": 828,
      "outputs": []
    },
    {
      "cell_type": "code",
      "source": [
        "df.isnull().sum()"
      ],
      "metadata": {
        "id": "hpvitzhREDfP",
        "colab": {
          "base_uri": "https://localhost:8080/"
        },
        "outputId": "1eaa2b4e-4dd2-41c7-9131-45450dd5b29e"
      },
      "execution_count": 830,
      "outputs": [
        {
          "output_type": "execute_result",
          "data": {
            "text/plain": [
              "timestamp                  0\n",
              "company                    0\n",
              "level                      0\n",
              "title                      0\n",
              "totalyearlycompensation    0\n",
              "location                   0\n",
              "yearsofexperience          0\n",
              "yearsatcompany             0\n",
              "basesalary                 0\n",
              "stockgrantvalue            0\n",
              "bonus                      0\n",
              "gender                     0\n",
              "cityid                     0\n",
              "dmaid                      0\n",
              "rowNumber                  0\n",
              "Masters_Degree             0\n",
              "Bachelors_Degree           0\n",
              "Doctorate_Degree           0\n",
              "Highschool                 0\n",
              "Some_College               0\n",
              "Race_Asian                 0\n",
              "Race_White                 0\n",
              "Race_Two_Or_More           0\n",
              "Race_Black                 0\n",
              "Race_Hispanic              0\n",
              "Education                  0\n",
              "dtype: int64"
            ]
          },
          "metadata": {},
          "execution_count": 830
        }
      ]
    },
    {
      "cell_type": "code",
      "source": [
        "# Droping the unwanted columns\n",
        "\n",
        "df.drop(columns='timestamp', inplace=True)\n",
        "df.drop(columns='Masters_Degree', inplace=True)\n",
        "df.drop(columns='Bachelors_Degree', inplace=True)\n",
        "df.drop(columns='Doctorate_Degree', inplace=True)\n",
        "df.drop(columns='Highschool', inplace=True)\n",
        "df.drop(columns='Some_College', inplace=True)"
      ],
      "metadata": {
        "id": "V0Satj0LEMgX"
      },
      "execution_count": 832,
      "outputs": []
    },
    {
      "cell_type": "code",
      "source": [
        "df.drop(columns='Race_Asian', inplace=True)\n",
        "df.drop(columns='Race_White', inplace=True)\n",
        "df.drop(columns='Race_Two_Or_More', inplace=True)\n",
        "df.drop(columns='Race_Black', inplace=True)\n",
        "df.drop(columns='Race_Hispanic', inplace=True)\n",
        "df.drop(columns='level', inplace=True)\n",
        "df.drop(columns='rowNumber', inplace=True)"
      ],
      "metadata": {
        "id": "t7-CuczCEP2N"
      },
      "execution_count": 833,
      "outputs": []
    },
    {
      "cell_type": "code",
      "source": [
        "df.shape"
      ],
      "metadata": {
        "colab": {
          "base_uri": "https://localhost:8080/"
        },
        "id": "7FcWnpDTEXK0",
        "outputId": "13169563-4106-422e-864a-af59331322ca"
      },
      "execution_count": 834,
      "outputs": [
        {
          "output_type": "execute_result",
          "data": {
            "text/plain": [
              "(62642, 13)"
            ]
          },
          "metadata": {},
          "execution_count": 834
        }
      ]
    },
    {
      "cell_type": "code",
      "source": [
        "df.columns"
      ],
      "metadata": {
        "colab": {
          "base_uri": "https://localhost:8080/"
        },
        "id": "pmmCdVvOET3e",
        "outputId": "9e125ffd-9159-492f-9e42-effefa35c65c"
      },
      "execution_count": 835,
      "outputs": [
        {
          "output_type": "execute_result",
          "data": {
            "text/plain": [
              "Index(['company', 'title', 'totalyearlycompensation', 'location',\n",
              "       'yearsofexperience', 'yearsatcompany', 'basesalary', 'stockgrantvalue',\n",
              "       'bonus', 'gender', 'cityid', 'dmaid', 'Education'],\n",
              "      dtype='object')"
            ]
          },
          "metadata": {},
          "execution_count": 835
        }
      ]
    },
    {
      "cell_type": "code",
      "source": [
        "from sklearn.preprocessing import LabelEncoder\n",
        "\n",
        "# Define a categorical feature\n",
        "company = df['company']\n",
        "title = df['title']\n",
        "gender = df['gender']\n",
        "location = df['location']\n",
        "Education = df['Education']\n",
        "\n",
        "\n",
        "# Create a label encoder object\n",
        "le = LabelEncoder()\n",
        "\n",
        "# Fit the label encoder to the categorical feature and transform it\n",
        "df['company'] = le.fit_transform(company)\n",
        "df['title'] = le.fit_transform(title)\n",
        "df['gender'] = le.fit_transform(gender)\n",
        "df['location'] = le.fit_transform(location)\n",
        "df['Education'] = le.fit_transform(Education)"
      ],
      "metadata": {
        "id": "9QXqnJsGEiW7"
      },
      "execution_count": 836,
      "outputs": []
    },
    {
      "cell_type": "code",
      "source": [
        "fig, axs = plt.subplots(ncols=4, nrows=4, figsize=(15, 15))\n",
        "index = 0\n",
        "axs = axs.flatten()\n",
        "for k,v in df.items():\n",
        "    sns.distplot(v, ax=axs[index])\n",
        "    index += 1\n",
        "plt.tight_layout(pad=0.4, w_pad=0.5, h_pad=5.0)\n"
      ],
      "metadata": {
        "colab": {
          "base_uri": "https://localhost:8080/",
          "height": 1000
        },
        "id": "IzJO8l39h0Zz",
        "outputId": "6164d6ce-0180-434b-8718-5ac74b4581ec"
      },
      "execution_count": 837,
      "outputs": [
        {
          "output_type": "error",
          "ename": "ValueError",
          "evalue": "ignored",
          "traceback": [
            "\u001b[0;31m---------------------------------------------------------------------------\u001b[0m",
            "\u001b[0;31mValueError\u001b[0m                                Traceback (most recent call last)",
            "\u001b[0;32m<ipython-input-837-5ef328bfc2fc>\u001b[0m in \u001b[0;36m<module>\u001b[0;34m\u001b[0m\n\u001b[1;32m      3\u001b[0m \u001b[0maxs\u001b[0m \u001b[0;34m=\u001b[0m \u001b[0maxs\u001b[0m\u001b[0;34m.\u001b[0m\u001b[0mflatten\u001b[0m\u001b[0;34m(\u001b[0m\u001b[0;34m)\u001b[0m\u001b[0;34m\u001b[0m\u001b[0;34m\u001b[0m\u001b[0m\n\u001b[1;32m      4\u001b[0m \u001b[0;32mfor\u001b[0m \u001b[0mk\u001b[0m\u001b[0;34m,\u001b[0m\u001b[0mv\u001b[0m \u001b[0;32min\u001b[0m \u001b[0mdf\u001b[0m\u001b[0;34m.\u001b[0m\u001b[0mitems\u001b[0m\u001b[0;34m(\u001b[0m\u001b[0;34m)\u001b[0m\u001b[0;34m:\u001b[0m\u001b[0;34m\u001b[0m\u001b[0;34m\u001b[0m\u001b[0m\n\u001b[0;32m----> 5\u001b[0;31m     \u001b[0msns\u001b[0m\u001b[0;34m.\u001b[0m\u001b[0mdistplot\u001b[0m\u001b[0;34m(\u001b[0m\u001b[0mv\u001b[0m\u001b[0;34m,\u001b[0m \u001b[0max\u001b[0m\u001b[0;34m=\u001b[0m\u001b[0maxs\u001b[0m\u001b[0;34m[\u001b[0m\u001b[0mindex\u001b[0m\u001b[0;34m]\u001b[0m\u001b[0;34m)\u001b[0m\u001b[0;34m\u001b[0m\u001b[0;34m\u001b[0m\u001b[0m\n\u001b[0m\u001b[1;32m      6\u001b[0m     \u001b[0mindex\u001b[0m \u001b[0;34m+=\u001b[0m \u001b[0;36m1\u001b[0m\u001b[0;34m\u001b[0m\u001b[0;34m\u001b[0m\u001b[0m\n\u001b[1;32m      7\u001b[0m \u001b[0mplt\u001b[0m\u001b[0;34m.\u001b[0m\u001b[0mtight_layout\u001b[0m\u001b[0;34m(\u001b[0m\u001b[0mpad\u001b[0m\u001b[0;34m=\u001b[0m\u001b[0;36m0.4\u001b[0m\u001b[0;34m,\u001b[0m \u001b[0mw_pad\u001b[0m\u001b[0;34m=\u001b[0m\u001b[0;36m0.5\u001b[0m\u001b[0;34m,\u001b[0m \u001b[0mh_pad\u001b[0m\u001b[0;34m=\u001b[0m\u001b[0;36m5.0\u001b[0m\u001b[0;34m)\u001b[0m\u001b[0;34m\u001b[0m\u001b[0;34m\u001b[0m\u001b[0m\n",
            "\u001b[0;32m/usr/local/lib/python3.8/dist-packages/seaborn/distributions.py\u001b[0m in \u001b[0;36mdistplot\u001b[0;34m(a, bins, hist, kde, rug, fit, hist_kws, kde_kws, rug_kws, fit_kws, color, vertical, norm_hist, axlabel, label, ax, x)\u001b[0m\n\u001b[1;32m   2634\u001b[0m \u001b[0;34m\u001b[0m\u001b[0m\n\u001b[1;32m   2635\u001b[0m     \u001b[0;31m# Make a a 1-d float array\u001b[0m\u001b[0;34m\u001b[0m\u001b[0;34m\u001b[0m\u001b[0;34m\u001b[0m\u001b[0m\n\u001b[0;32m-> 2636\u001b[0;31m     \u001b[0ma\u001b[0m \u001b[0;34m=\u001b[0m \u001b[0mnp\u001b[0m\u001b[0;34m.\u001b[0m\u001b[0masarray\u001b[0m\u001b[0;34m(\u001b[0m\u001b[0ma\u001b[0m\u001b[0;34m,\u001b[0m \u001b[0mfloat\u001b[0m\u001b[0;34m)\u001b[0m\u001b[0;34m\u001b[0m\u001b[0;34m\u001b[0m\u001b[0m\n\u001b[0m\u001b[1;32m   2637\u001b[0m     \u001b[0;32mif\u001b[0m \u001b[0ma\u001b[0m\u001b[0;34m.\u001b[0m\u001b[0mndim\u001b[0m \u001b[0;34m>\u001b[0m \u001b[0;36m1\u001b[0m\u001b[0;34m:\u001b[0m\u001b[0;34m\u001b[0m\u001b[0;34m\u001b[0m\u001b[0m\n\u001b[1;32m   2638\u001b[0m         \u001b[0ma\u001b[0m \u001b[0;34m=\u001b[0m \u001b[0ma\u001b[0m\u001b[0;34m.\u001b[0m\u001b[0msqueeze\u001b[0m\u001b[0;34m(\u001b[0m\u001b[0;34m)\u001b[0m\u001b[0;34m\u001b[0m\u001b[0;34m\u001b[0m\u001b[0m\n",
            "\u001b[0;32m/usr/local/lib/python3.8/dist-packages/pandas/core/series.py\u001b[0m in \u001b[0;36m__array__\u001b[0;34m(self, dtype)\u001b[0m\n\u001b[1;32m    855\u001b[0m               dtype='datetime64[ns]')\n\u001b[1;32m    856\u001b[0m         \"\"\"\n\u001b[0;32m--> 857\u001b[0;31m         \u001b[0;32mreturn\u001b[0m \u001b[0mnp\u001b[0m\u001b[0;34m.\u001b[0m\u001b[0masarray\u001b[0m\u001b[0;34m(\u001b[0m\u001b[0mself\u001b[0m\u001b[0;34m.\u001b[0m\u001b[0m_values\u001b[0m\u001b[0;34m,\u001b[0m \u001b[0mdtype\u001b[0m\u001b[0;34m)\u001b[0m\u001b[0;34m\u001b[0m\u001b[0;34m\u001b[0m\u001b[0m\n\u001b[0m\u001b[1;32m    858\u001b[0m \u001b[0;34m\u001b[0m\u001b[0m\n\u001b[1;32m    859\u001b[0m     \u001b[0;31m# ----------------------------------------------------------------------\u001b[0m\u001b[0;34m\u001b[0m\u001b[0;34m\u001b[0m\u001b[0;34m\u001b[0m\u001b[0m\n",
            "\u001b[0;31mValueError\u001b[0m: could not convert string to float: 'Not_given'"
          ]
        },
        {
          "output_type": "display_data",
          "data": {
            "text/plain": [
              "<Figure size 1080x1080 with 16 Axes>"
            ],
            "image/png": "[encoded data removed]"
          },
          "metadata": {}
        }
      ]
    },
    {
      "cell_type": "code",
      "source": [
        "plt.figure(figsize=(15, 15))\n",
        "sns.heatmap(df.corr().abs(),annot=True)"
      ],
      "metadata": {
        "colab": {
          "base_uri": "https://localhost:8080/",
          "height": 998
        },
        "id": "pkdhpVxCi9yg",
        "outputId": "7072ff50-97cc-46c5-e02a-c8675fbcaa52"
      },
      "execution_count": 787,
      "outputs": [
        {
          "output_type": "execute_result",
          "data": {
            "text/plain": [
              "<matplotlib.axes._subplots.AxesSubplot at 0x7fbb5e1da520>"
            ]
          },
          "metadata": {},
          "execution_count": 787
        },
        {
          "output_type": "display_data",
          "data": {
            "text/plain": [
              "<Figure size 1080x1080 with 2 Axes>"
            ],
            "image/png": "[encoded data removed]"
          },
          "metadata": {}
        }
      ]
    },
    {
      "cell_type": "code",
      "source": [
        "sns.set_style('whitegrid')\n",
        "sns.countplot(x='basesalary',data=df)"
      ],
      "metadata": {
        "colab": {
          "base_uri": "https://localhost:8080/",
          "height": 296
        },
        "id": "GC4lfCPIjK-N",
        "outputId": "12760f7a-122e-4fa8-c83c-516b61404e95"
      },
      "execution_count": 838,
      "outputs": [
        {
          "output_type": "execute_result",
          "data": {
            "text/plain": [
              "<matplotlib.axes._subplots.AxesSubplot at 0x7fbb64375e80>"
            ]
          },
          "metadata": {},
          "execution_count": 838
        },
        {
          "output_type": "display_data",
          "data": {
            "text/plain": [
              "<Figure size 432x288 with 1 Axes>"
            ],
            "image/png": "[encoded data removed]"
          },
          "metadata": {}
        }
      ]
    },
    {
      "cell_type": "code",
      "source": [
        "df.describe()\n",
        "plt.hist(df['basesalary'])\n",
        "plt.show()"
      ],
      "metadata": {
        "colab": {
          "base_uri": "https://localhost:8080/",
          "height": 278
        },
        "id": "0p_gYXehjZW4",
        "outputId": "38092a0e-0cdb-4a53-a847-ea38fbfe854e"
      },
      "execution_count": 839,
      "outputs": [
        {
          "output_type": "display_data",
          "data": {
            "text/plain": [
              "<Figure size 432x288 with 1 Axes>"
            ],
            "image/png": "[encoded data removed]"
          },
          "metadata": {}
        }
      ]
    },
    {
      "cell_type": "code",
      "source": [
        "# Create a 4x4 grid of subplots\n",
        "fig, axes = plt.subplots(ncols=4, nrows=4, figsize=(15, 15))\n",
        "\n",
        "# Create a box plot for each column of the DataFrame\n",
        "for i, col in enumerate(df.columns):\n",
        "    ax = axes[i//4][i%4]\n",
        "    ax.boxplot(df[col])\n",
        "    ax.set_title(col)\n",
        "\n",
        "# Set title and labels for the plot\n",
        "fig.suptitle('Outlier Plot')\n",
        "\n",
        "# Show the plot\n",
        "plt.show()"
      ],
      "metadata": {
        "colab": {
          "base_uri": "https://localhost:8080/",
          "height": 1000
        },
        "id": "nXS4n9A6jbt-",
        "outputId": "07ac12b4-bfa1-420d-d7f9-ae77b9c6e809"
      },
      "execution_count": 840,
      "outputs": [
        {
          "output_type": "error",
          "ename": "TypeError",
          "evalue": "ignored",
          "traceback": [
            "\u001b[0;31m---------------------------------------------------------------------------\u001b[0m",
            "\u001b[0;31mTypeError\u001b[0m                                 Traceback (most recent call last)",
            "\u001b[0;32m<ipython-input-840-07861bed2922>\u001b[0m in \u001b[0;36m<module>\u001b[0;34m\u001b[0m\n\u001b[1;32m      5\u001b[0m \u001b[0;32mfor\u001b[0m \u001b[0mi\u001b[0m\u001b[0;34m,\u001b[0m \u001b[0mcol\u001b[0m \u001b[0;32min\u001b[0m \u001b[0menumerate\u001b[0m\u001b[0;34m(\u001b[0m\u001b[0mdf\u001b[0m\u001b[0;34m.\u001b[0m\u001b[0mcolumns\u001b[0m\u001b[0;34m)\u001b[0m\u001b[0;34m:\u001b[0m\u001b[0;34m\u001b[0m\u001b[0;34m\u001b[0m\u001b[0m\n\u001b[1;32m      6\u001b[0m     \u001b[0max\u001b[0m \u001b[0;34m=\u001b[0m \u001b[0maxes\u001b[0m\u001b[0;34m[\u001b[0m\u001b[0mi\u001b[0m\u001b[0;34m//\u001b[0m\u001b[0;36m4\u001b[0m\u001b[0;34m]\u001b[0m\u001b[0;34m[\u001b[0m\u001b[0mi\u001b[0m\u001b[0;34m%\u001b[0m\u001b[0;36m4\u001b[0m\u001b[0;34m]\u001b[0m\u001b[0;34m\u001b[0m\u001b[0;34m\u001b[0m\u001b[0m\n\u001b[0;32m----> 7\u001b[0;31m     \u001b[0max\u001b[0m\u001b[0;34m.\u001b[0m\u001b[0mboxplot\u001b[0m\u001b[0;34m(\u001b[0m\u001b[0mdf\u001b[0m\u001b[0;34m[\u001b[0m\u001b[0mcol\u001b[0m\u001b[0;34m]\u001b[0m\u001b[0;34m)\u001b[0m\u001b[0;34m\u001b[0m\u001b[0;34m\u001b[0m\u001b[0m\n\u001b[0m\u001b[1;32m      8\u001b[0m     \u001b[0max\u001b[0m\u001b[0;34m.\u001b[0m\u001b[0mset_title\u001b[0m\u001b[0;34m(\u001b[0m\u001b[0mcol\u001b[0m\u001b[0;34m)\u001b[0m\u001b[0;34m\u001b[0m\u001b[0;34m\u001b[0m\u001b[0m\n\u001b[1;32m      9\u001b[0m \u001b[0;34m\u001b[0m\u001b[0m\n",
            "\u001b[0;32m/usr/local/lib/python3.8/dist-packages/matplotlib/cbook/deprecation.py\u001b[0m in \u001b[0;36mwrapper\u001b[0;34m(*args, **kwargs)\u001b[0m\n\u001b[1;32m    294\u001b[0m                 f\"for the old name will be dropped %(removal)s.\")\n\u001b[1;32m    295\u001b[0m             \u001b[0mkwargs\u001b[0m\u001b[0;34m[\u001b[0m\u001b[0mnew\u001b[0m\u001b[0;34m]\u001b[0m \u001b[0;34m=\u001b[0m \u001b[0mkwargs\u001b[0m\u001b[0;34m.\u001b[0m\u001b[0mpop\u001b[0m\u001b[0;34m(\u001b[0m\u001b[0mold\u001b[0m\u001b[0;34m)\u001b[0m\u001b[0;34m\u001b[0m\u001b[0;34m\u001b[0m\u001b[0m\n\u001b[0;32m--> 296\u001b[0;31m         \u001b[0;32mreturn\u001b[0m \u001b[0mfunc\u001b[0m\u001b[0;34m(\u001b[0m\u001b[0;34m*\u001b[0m\u001b[0margs\u001b[0m\u001b[0;34m,\u001b[0m \u001b[0;34m**\u001b[0m\u001b[0mkwargs\u001b[0m\u001b[0;34m)\u001b[0m\u001b[0;34m\u001b[0m\u001b[0;34m\u001b[0m\u001b[0m\n\u001b[0m\u001b[1;32m    297\u001b[0m \u001b[0;34m\u001b[0m\u001b[0m\n\u001b[1;32m    298\u001b[0m     \u001b[0;31m# wrapper() must keep the same documented signature as func(): if we\u001b[0m\u001b[0;34m\u001b[0m\u001b[0;34m\u001b[0m\u001b[0;34m\u001b[0m\u001b[0m\n",
            "\u001b[0;32m/usr/local/lib/python3.8/dist-packages/matplotlib/__init__.py\u001b[0m in \u001b[0;36minner\u001b[0;34m(ax, data, *args, **kwargs)\u001b[0m\n\u001b[1;32m   1563\u001b[0m     \u001b[0;32mdef\u001b[0m \u001b[0minner\u001b[0m\u001b[0;34m(\u001b[0m\u001b[0max\u001b[0m\u001b[0;34m,\u001b[0m \u001b[0;34m*\u001b[0m\u001b[0margs\u001b[0m\u001b[0;34m,\u001b[0m \u001b[0mdata\u001b[0m\u001b[0;34m=\u001b[0m\u001b[0;32mNone\u001b[0m\u001b[0;34m,\u001b[0m \u001b[0;34m**\u001b[0m\u001b[0mkwargs\u001b[0m\u001b[0;34m)\u001b[0m\u001b[0;34m:\u001b[0m\u001b[0;34m\u001b[0m\u001b[0;34m\u001b[0m\u001b[0m\n\u001b[1;32m   1564\u001b[0m         \u001b[0;32mif\u001b[0m \u001b[0mdata\u001b[0m \u001b[0;32mis\u001b[0m \u001b[0;32mNone\u001b[0m\u001b[0;34m:\u001b[0m\u001b[0;34m\u001b[0m\u001b[0;34m\u001b[0m\u001b[0m\n\u001b[0;32m-> 1565\u001b[0;31m             \u001b[0;32mreturn\u001b[0m \u001b[0mfunc\u001b[0m\u001b[0;34m(\u001b[0m\u001b[0max\u001b[0m\u001b[0;34m,\u001b[0m \u001b[0;34m*\u001b[0m\u001b[0mmap\u001b[0m\u001b[0;34m(\u001b[0m\u001b[0msanitize_sequence\u001b[0m\u001b[0;34m,\u001b[0m \u001b[0margs\u001b[0m\u001b[0;34m)\u001b[0m\u001b[0;34m,\u001b[0m \u001b[0;34m**\u001b[0m\u001b[0mkwargs\u001b[0m\u001b[0;34m)\u001b[0m\u001b[0;34m\u001b[0m\u001b[0;34m\u001b[0m\u001b[0m\n\u001b[0m\u001b[1;32m   1566\u001b[0m \u001b[0;34m\u001b[0m\u001b[0m\n\u001b[1;32m   1567\u001b[0m         \u001b[0mbound\u001b[0m \u001b[0;34m=\u001b[0m \u001b[0mnew_sig\u001b[0m\u001b[0;34m.\u001b[0m\u001b[0mbind\u001b[0m\u001b[0;34m(\u001b[0m\u001b[0max\u001b[0m\u001b[0;34m,\u001b[0m \u001b[0;34m*\u001b[0m\u001b[0margs\u001b[0m\u001b[0;34m,\u001b[0m \u001b[0;34m**\u001b[0m\u001b[0mkwargs\u001b[0m\u001b[0;34m)\u001b[0m\u001b[0;34m\u001b[0m\u001b[0;34m\u001b[0m\u001b[0m\n",
            "\u001b[0;32m/usr/local/lib/python3.8/dist-packages/matplotlib/axes/_axes.py\u001b[0m in \u001b[0;36mboxplot\u001b[0;34m(self, x, notch, sym, vert, whis, positions, widths, patch_artist, bootstrap, usermedians, conf_intervals, meanline, showmeans, showcaps, showbox, showfliers, boxprops, labels, flierprops, medianprops, meanprops, capprops, whiskerprops, manage_ticks, autorange, zorder)\u001b[0m\n\u001b[1;32m   3625\u001b[0m             \u001b[0mbootstrap\u001b[0m \u001b[0;34m=\u001b[0m \u001b[0mrcParams\u001b[0m\u001b[0;34m[\u001b[0m\u001b[0;34m'boxplot.bootstrap'\u001b[0m\u001b[0;34m]\u001b[0m\u001b[0;34m\u001b[0m\u001b[0;34m\u001b[0m\u001b[0m\n\u001b[1;32m   3626\u001b[0m \u001b[0;34m\u001b[0m\u001b[0m\n\u001b[0;32m-> 3627\u001b[0;31m         bxpstats = cbook.boxplot_stats(x, whis=whis, bootstrap=bootstrap,\n\u001b[0m\u001b[1;32m   3628\u001b[0m                                        labels=labels, autorange=autorange)\n\u001b[1;32m   3629\u001b[0m         \u001b[0;32mif\u001b[0m \u001b[0mnotch\u001b[0m \u001b[0;32mis\u001b[0m \u001b[0;32mNone\u001b[0m\u001b[0;34m:\u001b[0m\u001b[0;34m\u001b[0m\u001b[0;34m\u001b[0m\u001b[0m\n",
            "\u001b[0;32m/usr/local/lib/python3.8/dist-packages/matplotlib/cbook/__init__.py\u001b[0m in \u001b[0;36mboxplot_stats\u001b[0;34m(X, whis, bootstrap, labels, autorange)\u001b[0m\n\u001b[1;32m   1203\u001b[0m \u001b[0;34m\u001b[0m\u001b[0m\n\u001b[1;32m   1204\u001b[0m         \u001b[0;31m# arithmetic mean\u001b[0m\u001b[0;34m\u001b[0m\u001b[0;34m\u001b[0m\u001b[0;34m\u001b[0m\u001b[0m\n\u001b[0;32m-> 1205\u001b[0;31m         \u001b[0mstats\u001b[0m\u001b[0;34m[\u001b[0m\u001b[0;34m'mean'\u001b[0m\u001b[0;34m]\u001b[0m \u001b[0;34m=\u001b[0m \u001b[0mnp\u001b[0m\u001b[0;34m.\u001b[0m\u001b[0mmean\u001b[0m\u001b[0;34m(\u001b[0m\u001b[0mx\u001b[0m\u001b[0;34m)\u001b[0m\u001b[0;34m\u001b[0m\u001b[0;34m\u001b[0m\u001b[0m\n\u001b[0m\u001b[1;32m   1206\u001b[0m \u001b[0;34m\u001b[0m\u001b[0m\n\u001b[1;32m   1207\u001b[0m         \u001b[0;31m# medians and quartiles\u001b[0m\u001b[0;34m\u001b[0m\u001b[0;34m\u001b[0m\u001b[0;34m\u001b[0m\u001b[0m\n",
            "\u001b[0;32m<__array_function__ internals>\u001b[0m in \u001b[0;36mmean\u001b[0;34m(*args, **kwargs)\u001b[0m\n",
            "\u001b[0;32m/usr/local/lib/python3.8/dist-packages/numpy/core/fromnumeric.py\u001b[0m in \u001b[0;36mmean\u001b[0;34m(a, axis, dtype, out, keepdims, where)\u001b[0m\n\u001b[1;32m   3438\u001b[0m             \u001b[0;32mreturn\u001b[0m \u001b[0mmean\u001b[0m\u001b[0;34m(\u001b[0m\u001b[0maxis\u001b[0m\u001b[0;34m=\u001b[0m\u001b[0maxis\u001b[0m\u001b[0;34m,\u001b[0m \u001b[0mdtype\u001b[0m\u001b[0;34m=\u001b[0m\u001b[0mdtype\u001b[0m\u001b[0;34m,\u001b[0m \u001b[0mout\u001b[0m\u001b[0;34m=\u001b[0m\u001b[0mout\u001b[0m\u001b[0;34m,\u001b[0m \u001b[0;34m**\u001b[0m\u001b[0mkwargs\u001b[0m\u001b[0;34m)\u001b[0m\u001b[0;34m\u001b[0m\u001b[0;34m\u001b[0m\u001b[0m\n\u001b[1;32m   3439\u001b[0m \u001b[0;34m\u001b[0m\u001b[0m\n\u001b[0;32m-> 3440\u001b[0;31m     return _methods._mean(a, axis=axis, dtype=dtype,\n\u001b[0m\u001b[1;32m   3441\u001b[0m                           out=out, **kwargs)\n\u001b[1;32m   3442\u001b[0m \u001b[0;34m\u001b[0m\u001b[0m\n",
            "\u001b[0;32m/usr/local/lib/python3.8/dist-packages/numpy/core/_methods.py\u001b[0m in \u001b[0;36m_mean\u001b[0;34m(a, axis, dtype, out, keepdims, where)\u001b[0m\n\u001b[1;32m    177\u001b[0m             \u001b[0mis_float16_result\u001b[0m \u001b[0;34m=\u001b[0m \u001b[0;32mTrue\u001b[0m\u001b[0;34m\u001b[0m\u001b[0;34m\u001b[0m\u001b[0m\n\u001b[1;32m    178\u001b[0m \u001b[0;34m\u001b[0m\u001b[0m\n\u001b[0;32m--> 179\u001b[0;31m     \u001b[0mret\u001b[0m \u001b[0;34m=\u001b[0m \u001b[0mumr_sum\u001b[0m\u001b[0;34m(\u001b[0m\u001b[0marr\u001b[0m\u001b[0;34m,\u001b[0m \u001b[0maxis\u001b[0m\u001b[0;34m,\u001b[0m \u001b[0mdtype\u001b[0m\u001b[0;34m,\u001b[0m \u001b[0mout\u001b[0m\u001b[0;34m,\u001b[0m \u001b[0mkeepdims\u001b[0m\u001b[0;34m,\u001b[0m \u001b[0mwhere\u001b[0m\u001b[0;34m=\u001b[0m\u001b[0mwhere\u001b[0m\u001b[0;34m)\u001b[0m\u001b[0;34m\u001b[0m\u001b[0;34m\u001b[0m\u001b[0m\n\u001b[0m\u001b[1;32m    180\u001b[0m     \u001b[0;32mif\u001b[0m \u001b[0misinstance\u001b[0m\u001b[0;34m(\u001b[0m\u001b[0mret\u001b[0m\u001b[0;34m,\u001b[0m \u001b[0mmu\u001b[0m\u001b[0;34m.\u001b[0m\u001b[0mndarray\u001b[0m\u001b[0;34m)\u001b[0m\u001b[0;34m:\u001b[0m\u001b[0;34m\u001b[0m\u001b[0;34m\u001b[0m\u001b[0m\n\u001b[1;32m    181\u001b[0m         ret = um.true_divide(\n",
            "\u001b[0;31mTypeError\u001b[0m: unsupported operand type(s) for +: 'float' and 'str'"
          ]
        },
        {
          "output_type": "display_data",
          "data": {
            "text/plain": [
              "<Figure size 1080x1080 with 16 Axes>"
            ],
            "image/png": "[encoded data removed]"
          },
          "metadata": {}
        }
      ]
    },
    {
      "cell_type": "code",
      "source": [
        "plt.scatter(df.index, df['basesalary'])\n",
        "plt.show()"
      ],
      "metadata": {
        "colab": {
          "base_uri": "https://localhost:8080/",
          "height": 265
        },
        "id": "E5O5HwthkEYc",
        "outputId": "55308a17-6884-4d31-f802-0129dd9a354a"
      },
      "execution_count": 791,
      "outputs": [
        {
          "output_type": "display_data",
          "data": {
            "text/plain": [
              "<Figure size 432x288 with 1 Axes>"
            ],
            "image/png": "[encoded data removed]"
          },
          "metadata": {}
        }
      ]
    },
    {
      "cell_type": "code",
      "source": [
        "def find_outliers_IQR(df):\n",
        "  Q1 = np.percentile(df, 25)\n",
        "  Q3 = np.percentile(df, 75)\n",
        "  IQR = Q3 - Q1\n",
        "  lower_bound = Q1 - 1.5*IQR\n",
        "  upper_bound = Q3 + 1.5*IQR\n",
        "  outliers = df[(df > lower_bound) | (df < upper_bound)]\n",
        "  return outliers, Q1, Q3, IQR"
      ],
      "metadata": {
        "id": "bB9_DzaH-tHf"
      },
      "execution_count": 841,
      "outputs": []
    },
    {
      "cell_type": "code",
      "source": [
        "outliers=find_outliers_IQR(df)\n",
        "print(outliers)"
      ],
      "metadata": {
        "id": "ivsG0rhDAOLf"
      },
      "execution_count": null,
      "outputs": []
    },
    {
      "cell_type": "code",
      "source": [
        "# Split the data into features and target\n",
        "features = df.drop(['basesalary'], axis=1).values\n",
        "target = df['basesalary'].values.reshape(-1, 1)"
      ],
      "metadata": {
        "id": "r4ePlV4lFBxi"
      },
      "execution_count": 794,
      "outputs": []
    },
    {
      "cell_type": "code",
      "source": [
        "from sklearn.model_selection import train_test_split\n",
        "X_train, X_test, y_train, y_test = train_test_split(features, target, test_size=0.33,  random_state = 2)"
      ],
      "metadata": {
        "id": "0HRNVLg8FFS6"
      },
      "execution_count": 795,
      "outputs": []
    },
    {
      "cell_type": "code",
      "source": [
        "# creating a class for Lasso Regression\n",
        "\n",
        "class Lasso_Regression():\n",
        "\n",
        "  #initiating the hyperparameters\n",
        "  def __init__(self, learning_rate, no_of_iterations, lambda_parameter):\n",
        "\n",
        "    self.learning_rate = learning_rate\n",
        "    self.no_of_iterations = no_of_iterations\n",
        "    self.lambda_parameter = lambda_parameter\n",
        "\n",
        "\n",
        "  # fitting the dataset to the Lasso Regression model\n",
        "  def fit(self, X, Y):\n",
        "\n",
        "    # m --> number of Data points --> number of rows\n",
        "    # n --> number of input features --> number of columns\n",
        "    self.m, self.n = X.shape\n",
        "\n",
        "    self.w = np.zeros(self.n)\n",
        "\n",
        "    self.b = 0\n",
        "\n",
        "    self.X = X\n",
        "\n",
        "    self.Y = Y\n",
        "\n",
        "    # implementing Gradient Descent algorithm for Optimization\n",
        "\n",
        "    for i in range(self.no_of_iterations):     # missed \"self\"\n",
        "      self.upadte_weights()\n",
        "\n",
        "\n",
        "  # function for updating the weight & bias value\n",
        "  def upadte_weights(self):\n",
        "\n",
        "    # linear equation of the model\n",
        "    Y_prediction = self.predict(self.X)\n",
        "\n",
        "    # gradients (dw, db)\n",
        "\n",
        "    # gradient for weight\n",
        "    dw = np.zeros(self.n)\n",
        "\n",
        "    for i in range(self.n):\n",
        "\n",
        "      if self.w[i]>0:\n",
        "\n",
        "        dw[i] = (-(2*(self.X[:,i]).dot(self.Y - Y_prediction)) + self.lambda_parameter) / self.m \n",
        "\n",
        "      else :\n",
        "\n",
        "        dw[i] = (-(2*(self.X[:,i]).dot(self.Y - Y_prediction)) - self.lambda_parameter) / self.m\n",
        "\n",
        "\n",
        "    # gradient for bias\n",
        "    db = - 2 * np.sum(self.Y - Y_prediction) / self.m\n",
        "\n",
        "\n",
        "    # updating the weights & bias\n",
        "\n",
        "    self.w = self.w - self.learning_rate*dw\n",
        "    self.b = self.b - self.learning_rate*db\n",
        "\n",
        "    \n",
        "\n",
        "\n",
        "  # Predicting the Target variable\n",
        "  def predict(self,X):\n",
        "    return np.dot(X, self.w.reshape(-1,1)) + self.b\n",
        "  \n",
        "  def mean_squared_error(self,y_true, y_pred):\n",
        "   \n",
        "      # Check if the lengths of both arrays are equal\n",
        "      if len(y_true) != len(y_pred):\n",
        "          raise ValueError(\"Length of y_true and y_pred should be the same.\")\n",
        "      \n",
        "      # Calculate the squared differences between the true and predicted values\n",
        "      squared_differences = [(y_true[i] - y_pred[i])**2 for i in range(len(y_true))]\n",
        "      \n",
        "      # Calculate the mean of the squared differences\n",
        "      mse1 = sum(squared_differences) / len(squared_differences)\n",
        "      \n",
        "      return mse1\n",
        "  def r2(self,y_true, y_pred):\n",
        "    # Calculate the mean of the true values\n",
        "    y_true_mean = sum(y_true) / len(y_true)\n",
        "    \n",
        "    # Calculate the total sum of squares (TSS)\n",
        "    tss = sum((y_true - y_true_mean) ** 2)\n",
        "    \n",
        "    # Calculate the residual sum of squares (RSS)\n",
        "    rss = sum((y_true - y_pred) ** 2)\n",
        "    \n",
        "    # Calculate the R-squared value\n",
        "    r2_score = 1 - (rss / tss)\n",
        "    \n",
        "    return r2_score\n"
      ],
      "metadata": {
        "id": "4x0jZ91O0gWF"
      },
      "execution_count": 796,
      "outputs": []
    },
    {
      "cell_type": "code",
      "source": [
        "scaler = StandardScaler()\n",
        "X_train = scaler.fit_transform(X_train)\n",
        "X_test = scaler.transform(X_test)"
      ],
      "metadata": {
        "id": "6Zm9yD0_Gq2o"
      },
      "execution_count": 797,
      "outputs": []
    },
    {
      "cell_type": "code",
      "source": [
        "model = Lasso_Regression(learning_rate = 0.1, no_of_iterations=1000,\n",
        "                         lambda_parameter=200)"
      ],
      "metadata": {
        "id": "ynLfzB-Q0mtm"
      },
      "execution_count": 798,
      "outputs": []
    },
    {
      "cell_type": "code",
      "source": [
        "model.fit(X_train, y_train)"
      ],
      "metadata": {
        "id": "ZlF2XuX30rFV"
      },
      "execution_count": 799,
      "outputs": []
    },
    {
      "cell_type": "code",
      "source": [
        "test_data_prediction = model.predict(X_test)"
      ],
      "metadata": {
        "id": "6pvXL_S_1AyZ"
      },
      "execution_count": 800,
      "outputs": []
    },
    {
      "cell_type": "code",
      "source": [
        "from sklearn import metrics\n",
        "\n",
        "# R squared error\n",
        "score_1 = model.r2(y_test, test_data_prediction)\n",
        "\n",
        "# Mean Absolute Error\n",
        "score_2 = model.mean_squared_error(y_test, test_data_prediction)\n",
        "\n",
        "print(\"R squared error : \", score_1)\n",
        "print('Mean Squared Error : ', score_2)"
      ],
      "metadata": {
        "colab": {
          "base_uri": "https://localhost:8080/"
        },
        "id": "ZkpU1dUX1Atb",
        "outputId": "60381ea9-2356-4ec1-ae76-e7f3ec291439"
      },
      "execution_count": 801,
      "outputs": [
        {
          "output_type": "stream",
          "name": "stdout",
          "text": [
            "R squared error :  [0.16859972]\n",
            "Mean Squared Error :  [4.31275901e+09]\n"
          ]
        }
      ]
    },
    {
      "cell_type": "code",
      "source": [
        "def randomized_search_cv(X, y, model, param_distributions, n_iter=10, cv=3, random_state=None):\n",
        "    if random_state is not None:\n",
        "        random.seed(random_state)\n",
        "        \n",
        "    best_score = float('-inf')\n",
        "    best_params = None\n",
        "    \n",
        "    for i in range(n_iter):\n",
        "        params = {}\n",
        "        for param_name, distribution in param_distributions.items():\n",
        "            if isinstance(distribution, list):\n",
        "                params[param_name] = random.choice(distribution)\n",
        "            elif isinstance(distribution, tuple) and len(distribution) == 2:\n",
        "                low, high = distribution\n",
        "                params[param_name] = random.uniform(low, high)\n",
        "            else:\n",
        "                raise ValueError('Invalid parameter distribution')\n",
        "        \n",
        "        model.set_params(**params)\n",
        "        \n",
        "        scores = []\n",
        "        for j in range(cv):\n",
        "            mask = [k % cv != j for k in range(len(X))]\n",
        "            X_train = X[mask]\n",
        "            y_train = y[mask]\n",
        "            X_test = X[~mask]\n",
        "            y_test = y[~mask]\n",
        "            \n",
        "            model.fit(X_train, y_train)\n",
        "            score = model.score(X_test, y_test)\n",
        "            scores.append(score)\n",
        "        \n",
        "        mean_score = sum(scores) / len(scores)\n",
        "        if mean_score > best_score:\n",
        "            best_score = mean_score\n",
        "            best_params = params\n",
        "            \n",
        "    return best_params, best_score"
      ],
      "metadata": {
        "id": "jURVBS6_7eU4"
      },
      "execution_count": 802,
      "outputs": []
    },
    {
      "cell_type": "code",
      "source": [],
      "metadata": {
        "id": "ObtjJ8Cgb9fi"
      },
      "execution_count": null,
      "outputs": []
    },
    {
      "cell_type": "markdown",
      "source": [
        "def randomized_search_cv(X, y, model, param_distributions, n_iter=10, cv=3, random_state=None):\n"
      ],
      "metadata": {
        "id": "-1ZYcd8Kb6Ab"
      }
    },
    {
      "cell_type": "markdown",
      "source": [
        "This is a function definition for randomized_search_cv, which takes in five parameters: X, y, model, param_distributions, n_iter, cv, and random_state.\n",
        "\n",
        "X: The input features (independent variables) as a NumPy array or Pandas DataFrame.\n",
        "\n",
        "y: The output labels (dependent variable) as a NumPy array or Pandas Series.\n",
        "\n",
        "model: An estimator object implementing fit and score methods.\n",
        "\n",
        "param_distributions: A dictionary of hyperparameters and their distributions to sample from.\n",
        "\n",
        "n_iter: The number of parameter settings that are sampled.\n",
        "\n",
        "cv: The number of folds in cross-validation.\n",
        "\n",
        "random_state: A seed for the random number generator"
      ],
      "metadata": {
        "id": "o4AJ8McocA0v"
      }
    },
    {
      "cell_type": "markdown",
      "source": [
        "    if random_state is not None:\n",
        "        random.seed(random_state)\n",
        "If random_state is not None, this sets the seed for the random number generator."
      ],
      "metadata": {
        "id": "3JQem2V0cRrB"
      }
    },
    {
      "cell_type": "markdown",
      "source": [
        "best_score = float('-inf')\n",
        "\n",
        "    best_params = None\n",
        "    \n",
        "Initialize the variables best_score and best_params.\n",
        "\n",
        "best_score: The highest score achieved so far.\n",
        "best_params: The hyperparameters that achieved the best score."
      ],
      "metadata": {
        "id": "9A8uTtprcZNl"
      }
    },
    {
      "cell_type": "markdown",
      "source": [
        " for i in range(n_iter):\n",
        " \n",
        "Iterate n_iter times."
      ],
      "metadata": {
        "id": "vGKFHVBhcgFU"
      }
    },
    {
      "cell_type": "markdown",
      "source": [
        "     params = {}\n",
        "Initialize an empty dictionary to store the hyperparameters."
      ],
      "metadata": {
        "id": "42mjkUbacjsx"
      }
    },
    {
      "cell_type": "markdown",
      "source": [
        "     for param_name, distribution in param_distributions.items():\n",
        "Iterate over the hyperparameters and their distributions."
      ],
      "metadata": {
        "id": "j4qpVauMcm8R"
      }
    },
    {
      "cell_type": "markdown",
      "source": [
        "if isinstance(distribution, list):\n",
        "\n",
        "                params[param_name] = random.choice(distribution)\n",
        "If the distribution is a list, randomly select a value from it."
      ],
      "metadata": {
        "id": "7TWo6em3cp1N"
      }
    },
    {
      "cell_type": "markdown",
      "source": [
        "elif isinstance(distribution, tuple) and len(distribution) == 2:\n",
        "\n",
        "                low, high = distribution\n",
        "                params[param_name] = random.uniform(low, high)\n",
        "If the distribution is a tuple of length 2, randomly select a value from a uniform distribution between the two values."
      ],
      "metadata": {
        "id": "RpWIX7xVcxlX"
      }
    },
    {
      "cell_type": "markdown",
      "source": [
        "else:\n",
        "\n",
        "                raise ValueError('Invalid parameter distribution')\n",
        "If the distribution is not a list or a tuple of length 2, raise an error."
      ],
      "metadata": {
        "id": "ZJ7pzGsfc0fg"
      }
    },
    {
      "cell_type": "markdown",
      "source": [
        " model.set_params(**params)\n",
        " \n",
        "Set the hyperparameters of the model to the randomly selected values."
      ],
      "metadata": {
        "id": "dHAm9vkDc4WR"
      }
    },
    {
      "cell_type": "markdown",
      "source": [
        " scores = []\n",
        " \n",
        "Initialize an empty list to store the scores."
      ],
      "metadata": {
        "id": "nrFTmEGudB9w"
      }
    },
    {
      "cell_type": "markdown",
      "source": [
        " for j in range(cv):\n",
        " \n",
        "Iterate over cv folds for cross-validation."
      ],
      "metadata": {
        "id": "j-hraIjGdHOK"
      }
    },
    {
      "cell_type": "markdown",
      "source": [
        "   mask = [k % cv != j for k in range(len(X))]\n",
        "   \n",
        "            X_train = X[mask]\n",
        "            y_train = y[mask]\n",
        "            X_test = X[~mask]\n",
        "            y_test = y[~mask]\n",
        "\n",
        "Split the data into training and testing sets for the current fold of cross-validation."
      ],
      "metadata": {
        "id": "RwOimW7xdJ81"
      }
    },
    {
      "cell_type": "markdown",
      "source": [
        "model.fit(X_train, y_train)\n",
        "\n",
        "            score = model.score(X_test, y_test)\n",
        "            scores.append(score)\n",
        "Fit the model on the training data and evaluate the score on the testing data, and append the score to the list of scores."
      ],
      "metadata": {
        "id": "iOCRSG1zdTbx"
      }
    },
    {
      "cell_type": "markdown",
      "source": [
        "  mean_score = sum(scores) / len(scores)\n",
        "  \n",
        "Calculate the mean score across all folds of cross-validation."
      ],
      "metadata": {
        "id": "Cb4JiP_1dTZS"
      }
    },
    {
      "cell_type": "markdown",
      "source": [
        "    if mean_score > best_score:\n",
        "            best_score = mean_score\n",
        "            best_params = params\n",
        "If the mean score is greater than the current best score, update the best score and best hyperparameters."
      ],
      "metadata": {
        "id": "hUzx84EkdTVQ"
      }
    },
    {
      "cell_type": "code",
      "source": [],
      "metadata": {
        "id": "Okg_mihPc8rP"
      },
      "execution_count": null,
      "outputs": []
    },
    {
      "cell_type": "code",
      "source": [],
      "metadata": {
        "id": "uLGUbx_QcXkR"
      },
      "execution_count": null,
      "outputs": []
    },
    {
      "cell_type": "code",
      "source": [
        "\n"
      ],
      "metadata": {
        "id": "9n_HphZNxAGQ"
      },
      "execution_count": 802,
      "outputs": []
    },
    {
      "cell_type": "code",
      "source": [],
      "metadata": {
        "id": "dPdqHUuVD0q7"
      },
      "execution_count": null,
      "outputs": []
    },
    {
      "cell_type": "code",
      "source": [],
      "metadata": {
        "id": "0CvAZB8FD0n7"
      },
      "execution_count": null,
      "outputs": []
    },
    {
      "cell_type": "code",
      "source": [],
      "metadata": {
        "id": "jmi4V77ID0jf"
      },
      "execution_count": null,
      "outputs": []
    },
    {
      "cell_type": "code",
      "source": [],
      "metadata": {
        "id": "7lkfAnAJD0hH"
      },
      "execution_count": null,
      "outputs": []
    },
    {
      "cell_type": "code",
      "source": [],
      "metadata": {
        "id": "XBymliFmD0eh"
      },
      "execution_count": null,
      "outputs": []
    }
  ]
}